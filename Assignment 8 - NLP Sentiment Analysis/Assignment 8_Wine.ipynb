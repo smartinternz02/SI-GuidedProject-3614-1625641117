{
 "cells": [
  {
   "cell_type": "markdown",
   "id": "7bf5de83",
   "metadata": {},
   "source": [
    "# <center>Assignment 8</center>"
   ]
  },
  {
   "cell_type": "markdown",
   "id": "f8617958",
   "metadata": {},
   "source": [
    "<hr>"
   ]
  },
  {
   "cell_type": "markdown",
   "id": "8572bd5c",
   "metadata": {},
   "source": [
    "## <center>NLP Sentiment Analysis</center>"
   ]
  },
  {
   "cell_type": "markdown",
   "id": "0389e557",
   "metadata": {},
   "source": [
    "**Name               :** Atharva Ramgirkar  \n",
    "**Registration Number:** 19BCE0114  \n",
    "**Submission Date    :** 14 July, 2021  \n",
    "**Program            :** VIT-AI Industry Certifiation  \n",
    "**Email              :** atharva.ramgirkar2019@vitstudent.ac.in  "
   ]
  },
  {
   "cell_type": "markdown",
   "id": "2288df97",
   "metadata": {},
   "source": [
    "*Other Assignments can be found in the link:* **https://drive.google.com/drive/folders/1QGOLHyZykoj_CroTJu6-YkZWf32JZ-QH?usp=sharing**"
   ]
  },
  {
   "cell_type": "markdown",
   "id": "c7ada016",
   "metadata": {},
   "source": [
    "## <center>Table of Content</center>\n",
    "* [Importing Libraries](#1.-Importing-Libraries)  \n",
    "    * [Initailizing Objects](1.1-Initailizing-Objects)\n",
    "* [Reading Data](#2.-Reading-Data)\n",
    "* [Understanding Data](#3.-Understanding-Data)\n",
    "* [Dropping Unnecessary Columns](#4.-Dropping-Unnecessary-Columns)\n",
    "* [Dropping Empty Rows](#5.-Dropping-Empty-Rows)\n",
    "* [Modfying Columns](#6.-Modfying-Columns)\n",
    "    * [Encoding \"points\" Column](#6.1-Encoding-\"points\"-Column)\n",
    "    * [\"country\" Column](#6.2-\"country\"-Column)\n",
    "    * [\"province\" Column](#6.3-\"province\"-Column)\n",
    "    * [\"province\" Column](#6.4-\"province\"-Column)\n",
    "    * [\"variety\" Column](#6.5-\"variety\"-Column)\n",
    "* [Setting Feature and Target Columns](#7.-Setting-Feature-and-Target-Columns)\n",
    "* [NLP on Data](#8.-NLP-on-Data)\n",
    "* [Train Test Split](#9.-Train-Test-Split)\n",
    "* [Building Model](#10.-Building-Model)\n",
    "    * [Initializing Model](#10.1-Initializing-Model)\n",
    "    * [Adding Hidden Layers](#10.2-Adding-Hidden-Layers)\n",
    "    * [Adding Output Layer](#10.3-Adding-Output-Layer)\n",
    "* [Compiling the Model](#11.-Compiling-the-Model)\n",
    "* [Training the Model](#12.-Training-the-Model)\n",
    "* [Testing the Model](#13.-Testing-the-Model)\n",
    "* [Model Accurecy](#14.-Model-Accurecy)\n",
    "* [Single Predictions](#15.-Single-Predictions)"
   ]
  },
  {
   "cell_type": "code",
   "execution_count": null,
   "id": "fc7c7b3b",
   "metadata": {},
   "outputs": [],
   "source": []
  },
  {
   "cell_type": "code",
   "execution_count": null,
   "id": "a90db6f8",
   "metadata": {},
   "outputs": [],
   "source": []
  },
  {
   "cell_type": "code",
   "execution_count": null,
   "id": "10ba481c",
   "metadata": {},
   "outputs": [],
   "source": []
  },
  {
   "cell_type": "markdown",
   "id": "40212c0e",
   "metadata": {},
   "source": [
    "### 1. Importing Libraries"
   ]
  },
  {
   "cell_type": "markdown",
   "id": "be094803",
   "metadata": {},
   "source": [
    "[Back to Top](#Table-of-Content)"
   ]
  },
  {
   "cell_type": "code",
   "execution_count": 1,
   "id": "95b05305",
   "metadata": {},
   "outputs": [],
   "source": [
    "import pandas as pd\n",
    "import numpy as np\n",
    "\n",
    "# For NLP \n",
    "import re\n",
    "import nltk\n",
    "from nltk.corpus import stopwords\n",
    "from nltk.stem.porter import PorterStemmer\n",
    "from sklearn.feature_extraction.text import CountVectorizer\n",
    "\n",
    "# For Train Test Split\n",
    "from sklearn.model_selection import train_test_split\n",
    "\n",
    "# For Neural Network\n",
    "from tensorflow.keras.models import Sequential\n",
    "from tensorflow.keras.layers import Dense\n",
    "\n",
    "# For handling Missing Values\n",
    "import missingno as ms\n",
    "import matplotlib.pyplot as plt\n",
    "\n",
    "# Model Evaluation \n",
    "from sklearn.metrics import accuracy_score"
   ]
  },
  {
   "cell_type": "markdown",
   "id": "290aeada",
   "metadata": {},
   "source": [
    "#### 1.1 Initailizing Objects"
   ]
  },
  {
   "cell_type": "code",
   "execution_count": 2,
   "id": "a1bdc844",
   "metadata": {},
   "outputs": [],
   "source": [
    "ps = PorterStemmer()\n",
    "cv = CountVectorizer(max_features=4000)"
   ]
  },
  {
   "cell_type": "markdown",
   "id": "bc4018d2",
   "metadata": {},
   "source": [
    "### 2. Reading Data"
   ]
  },
  {
   "cell_type": "markdown",
   "id": "8541a996",
   "metadata": {},
   "source": [
    "[Back to Top](#Table-of-Content)"
   ]
  },
  {
   "cell_type": "code",
   "execution_count": 3,
   "id": "73af5aa7",
   "metadata": {},
   "outputs": [],
   "source": [
    "df = pd.read_csv(\"winemag-data-130k-v2.csv\")"
   ]
  },
  {
   "cell_type": "code",
   "execution_count": null,
   "id": "9b84d041",
   "metadata": {},
   "outputs": [],
   "source": []
  },
  {
   "cell_type": "markdown",
   "id": "7716b042",
   "metadata": {},
   "source": [
    "### 3. Understanding Data"
   ]
  },
  {
   "cell_type": "markdown",
   "id": "e9822d16",
   "metadata": {},
   "source": [
    "[Back to Top](#Table-of-Content)"
   ]
  },
  {
   "cell_type": "code",
   "execution_count": 4,
   "id": "66c5b182",
   "metadata": {},
   "outputs": [
    {
     "data": {
      "text/html": [
       "<div>\n",
       "<style scoped>\n",
       "    .dataframe tbody tr th:only-of-type {\n",
       "        vertical-align: middle;\n",
       "    }\n",
       "\n",
       "    .dataframe tbody tr th {\n",
       "        vertical-align: top;\n",
       "    }\n",
       "\n",
       "    .dataframe thead th {\n",
       "        text-align: right;\n",
       "    }\n",
       "</style>\n",
       "<table border=\"1\" class=\"dataframe\">\n",
       "  <thead>\n",
       "    <tr style=\"text-align: right;\">\n",
       "      <th></th>\n",
       "      <th>Unnamed: 0</th>\n",
       "      <th>country</th>\n",
       "      <th>description</th>\n",
       "      <th>designation</th>\n",
       "      <th>points</th>\n",
       "      <th>price</th>\n",
       "      <th>province</th>\n",
       "      <th>region_1</th>\n",
       "      <th>region_2</th>\n",
       "      <th>taster_name</th>\n",
       "      <th>taster_twitter_handle</th>\n",
       "      <th>title</th>\n",
       "      <th>variety</th>\n",
       "      <th>winery</th>\n",
       "    </tr>\n",
       "  </thead>\n",
       "  <tbody>\n",
       "    <tr>\n",
       "      <th>0</th>\n",
       "      <td>0</td>\n",
       "      <td>Italy</td>\n",
       "      <td>Aromas include tropical fruit, broom, brimston...</td>\n",
       "      <td>Vulkà Bianco</td>\n",
       "      <td>87</td>\n",
       "      <td>NaN</td>\n",
       "      <td>Sicily &amp; Sardinia</td>\n",
       "      <td>Etna</td>\n",
       "      <td>NaN</td>\n",
       "      <td>Kerin O’Keefe</td>\n",
       "      <td>@kerinokeefe</td>\n",
       "      <td>Nicosia 2013 Vulkà Bianco  (Etna)</td>\n",
       "      <td>White Blend</td>\n",
       "      <td>Nicosia</td>\n",
       "    </tr>\n",
       "    <tr>\n",
       "      <th>1</th>\n",
       "      <td>1</td>\n",
       "      <td>Portugal</td>\n",
       "      <td>This is ripe and fruity, a wine that is smooth...</td>\n",
       "      <td>Avidagos</td>\n",
       "      <td>87</td>\n",
       "      <td>15.0</td>\n",
       "      <td>Douro</td>\n",
       "      <td>NaN</td>\n",
       "      <td>NaN</td>\n",
       "      <td>Roger Voss</td>\n",
       "      <td>@vossroger</td>\n",
       "      <td>Quinta dos Avidagos 2011 Avidagos Red (Douro)</td>\n",
       "      <td>Portuguese Red</td>\n",
       "      <td>Quinta dos Avidagos</td>\n",
       "    </tr>\n",
       "    <tr>\n",
       "      <th>2</th>\n",
       "      <td>2</td>\n",
       "      <td>US</td>\n",
       "      <td>Tart and snappy, the flavors of lime flesh and...</td>\n",
       "      <td>NaN</td>\n",
       "      <td>87</td>\n",
       "      <td>14.0</td>\n",
       "      <td>Oregon</td>\n",
       "      <td>Willamette Valley</td>\n",
       "      <td>Willamette Valley</td>\n",
       "      <td>Paul Gregutt</td>\n",
       "      <td>@paulgwine</td>\n",
       "      <td>Rainstorm 2013 Pinot Gris (Willamette Valley)</td>\n",
       "      <td>Pinot Gris</td>\n",
       "      <td>Rainstorm</td>\n",
       "    </tr>\n",
       "    <tr>\n",
       "      <th>3</th>\n",
       "      <td>3</td>\n",
       "      <td>US</td>\n",
       "      <td>Pineapple rind, lemon pith and orange blossom ...</td>\n",
       "      <td>Reserve Late Harvest</td>\n",
       "      <td>87</td>\n",
       "      <td>13.0</td>\n",
       "      <td>Michigan</td>\n",
       "      <td>Lake Michigan Shore</td>\n",
       "      <td>NaN</td>\n",
       "      <td>Alexander Peartree</td>\n",
       "      <td>NaN</td>\n",
       "      <td>St. Julian 2013 Reserve Late Harvest Riesling ...</td>\n",
       "      <td>Riesling</td>\n",
       "      <td>St. Julian</td>\n",
       "    </tr>\n",
       "    <tr>\n",
       "      <th>4</th>\n",
       "      <td>4</td>\n",
       "      <td>US</td>\n",
       "      <td>Much like the regular bottling from 2012, this...</td>\n",
       "      <td>Vintner's Reserve Wild Child Block</td>\n",
       "      <td>87</td>\n",
       "      <td>65.0</td>\n",
       "      <td>Oregon</td>\n",
       "      <td>Willamette Valley</td>\n",
       "      <td>Willamette Valley</td>\n",
       "      <td>Paul Gregutt</td>\n",
       "      <td>@paulgwine</td>\n",
       "      <td>Sweet Cheeks 2012 Vintner's Reserve Wild Child...</td>\n",
       "      <td>Pinot Noir</td>\n",
       "      <td>Sweet Cheeks</td>\n",
       "    </tr>\n",
       "  </tbody>\n",
       "</table>\n",
       "</div>"
      ],
      "text/plain": [
       "   Unnamed: 0   country                                        description  \\\n",
       "0           0     Italy  Aromas include tropical fruit, broom, brimston...   \n",
       "1           1  Portugal  This is ripe and fruity, a wine that is smooth...   \n",
       "2           2        US  Tart and snappy, the flavors of lime flesh and...   \n",
       "3           3        US  Pineapple rind, lemon pith and orange blossom ...   \n",
       "4           4        US  Much like the regular bottling from 2012, this...   \n",
       "\n",
       "                          designation  points  price           province  \\\n",
       "0                        Vulkà Bianco      87    NaN  Sicily & Sardinia   \n",
       "1                            Avidagos      87   15.0              Douro   \n",
       "2                                 NaN      87   14.0             Oregon   \n",
       "3                Reserve Late Harvest      87   13.0           Michigan   \n",
       "4  Vintner's Reserve Wild Child Block      87   65.0             Oregon   \n",
       "\n",
       "              region_1           region_2         taster_name  \\\n",
       "0                 Etna                NaN       Kerin O’Keefe   \n",
       "1                  NaN                NaN          Roger Voss   \n",
       "2    Willamette Valley  Willamette Valley        Paul Gregutt   \n",
       "3  Lake Michigan Shore                NaN  Alexander Peartree   \n",
       "4    Willamette Valley  Willamette Valley        Paul Gregutt   \n",
       "\n",
       "  taster_twitter_handle                                              title  \\\n",
       "0          @kerinokeefe                  Nicosia 2013 Vulkà Bianco  (Etna)   \n",
       "1            @vossroger      Quinta dos Avidagos 2011 Avidagos Red (Douro)   \n",
       "2           @paulgwine       Rainstorm 2013 Pinot Gris (Willamette Valley)   \n",
       "3                   NaN  St. Julian 2013 Reserve Late Harvest Riesling ...   \n",
       "4           @paulgwine   Sweet Cheeks 2012 Vintner's Reserve Wild Child...   \n",
       "\n",
       "          variety               winery  \n",
       "0     White Blend              Nicosia  \n",
       "1  Portuguese Red  Quinta dos Avidagos  \n",
       "2      Pinot Gris            Rainstorm  \n",
       "3        Riesling           St. Julian  \n",
       "4      Pinot Noir         Sweet Cheeks  "
      ]
     },
     "execution_count": 4,
     "metadata": {},
     "output_type": "execute_result"
    }
   ],
   "source": [
    "df.head()"
   ]
  },
  {
   "cell_type": "code",
   "execution_count": 5,
   "id": "af801837",
   "metadata": {},
   "outputs": [
    {
     "data": {
      "text/plain": [
       "Index(['Unnamed: 0', 'country', 'description', 'designation', 'points',\n",
       "       'price', 'province', 'region_1', 'region_2', 'taster_name',\n",
       "       'taster_twitter_handle', 'title', 'variety', 'winery'],\n",
       "      dtype='object')"
      ]
     },
     "execution_count": 5,
     "metadata": {},
     "output_type": "execute_result"
    }
   ],
   "source": [
    "df.columns"
   ]
  },
  {
   "cell_type": "code",
   "execution_count": 6,
   "id": "cd679bc1",
   "metadata": {},
   "outputs": [
    {
     "data": {
      "text/plain": [
       "Unnamed: 0                   0\n",
       "country                     63\n",
       "description                  0\n",
       "designation              37465\n",
       "points                       0\n",
       "price                     8996\n",
       "province                    63\n",
       "region_1                 21247\n",
       "region_2                 79460\n",
       "taster_name              26244\n",
       "taster_twitter_handle    31213\n",
       "title                        0\n",
       "variety                      1\n",
       "winery                       0\n",
       "dtype: int64"
      ]
     },
     "execution_count": 6,
     "metadata": {},
     "output_type": "execute_result"
    }
   ],
   "source": [
    "df.isnull().sum()"
   ]
  },
  {
   "cell_type": "code",
   "execution_count": 7,
   "id": "b2de312b",
   "metadata": {},
   "outputs": [
    {
     "data": {
      "text/plain": [
       "<AxesSubplot:>"
      ]
     },
     "execution_count": 7,
     "metadata": {},
     "output_type": "execute_result"
    },
    {
     "data": {
      "image/png": "[encoded data removed]",
      "text/plain": [
       "<Figure size 1728x720 with 3 Axes>"
      ]
     },
     "metadata": {
      "needs_background": "light"
     },
     "output_type": "display_data"
    }
   ],
   "source": [
    "ms.bar(df)"
   ]
  },
  {
   "cell_type": "code",
   "execution_count": 8,
   "id": "1e146a35",
   "metadata": {},
   "outputs": [
    {
     "data": {
      "text/plain": [
       "<AxesSubplot:>"
      ]
     },
     "execution_count": 8,
     "metadata": {},
     "output_type": "execute_result"
    },
    {
     "data": {
      "image/png": "[encoded data removed]",
      "text/plain": [
       "<Figure size 1800x720 with 2 Axes>"
      ]
     },
     "metadata": {
      "needs_background": "light"
     },
     "output_type": "display_data"
    }
   ],
   "source": [
    "ms.matrix(df)"
   ]
  },
  {
   "cell_type": "code",
   "execution_count": 9,
   "id": "164827b6",
   "metadata": {},
   "outputs": [
    {
     "data": {
      "text/plain": [
       "(129971, 14)"
      ]
     },
     "execution_count": 9,
     "metadata": {},
     "output_type": "execute_result"
    }
   ],
   "source": [
    "df.shape"
   ]
  },
  {
   "cell_type": "code",
   "execution_count": 10,
   "id": "00427f31",
   "metadata": {},
   "outputs": [
    {
     "data": {
      "text/plain": [
       "<AxesSubplot:>"
      ]
     },
     "execution_count": 10,
     "metadata": {},
     "output_type": "execute_result"
    },
    {
     "data": {
      "image/png": "[encoded data removed]",
      "text/plain": [
       "<Figure size 432x288 with 1 Axes>"
      ]
     },
     "metadata": {
      "needs_background": "light"
     },
     "output_type": "display_data"
    }
   ],
   "source": [
    "df['points'].hist()"
   ]
  },
  {
   "cell_type": "code",
   "execution_count": 11,
   "id": "d5469bd3",
   "metadata": {},
   "outputs": [
    {
     "data": {
      "text/plain": [
       "US                        54504\n",
       "France                    22093\n",
       "Italy                     19540\n",
       "Spain                      6645\n",
       "Portugal                   5691\n",
       "Chile                      4472\n",
       "Argentina                  3800\n",
       "Austria                    3345\n",
       "Australia                  2329\n",
       "Germany                    2165\n",
       "New Zealand                1419\n",
       "South Africa               1401\n",
       "Israel                      505\n",
       "Greece                      466\n",
       "Canada                      257\n",
       "Hungary                     146\n",
       "Bulgaria                    141\n",
       "Romania                     120\n",
       "Uruguay                     109\n",
       "Turkey                       90\n",
       "Slovenia                     87\n",
       "Georgia                      86\n",
       "England                      74\n",
       "Croatia                      73\n",
       "Mexico                       70\n",
       "Moldova                      59\n",
       "Brazil                       52\n",
       "Lebanon                      35\n",
       "Morocco                      28\n",
       "Peru                         16\n",
       "Ukraine                      14\n",
       "Macedonia                    12\n",
       "Czech Republic               12\n",
       "Serbia                       12\n",
       "Cyprus                       11\n",
       "India                         9\n",
       "Switzerland                   7\n",
       "Luxembourg                    6\n",
       "Bosnia and Herzegovina        2\n",
       "Armenia                       2\n",
       "China                         1\n",
       "Egypt                         1\n",
       "Slovakia                      1\n",
       "Name: country, dtype: int64"
      ]
     },
     "execution_count": 11,
     "metadata": {},
     "output_type": "execute_result"
    }
   ],
   "source": [
    "df['country'].value_counts()"
   ]
  },
  {
   "cell_type": "code",
   "execution_count": null,
   "id": "114c20e9",
   "metadata": {},
   "outputs": [],
   "source": []
  },
  {
   "cell_type": "code",
   "execution_count": null,
   "id": "995e251f",
   "metadata": {},
   "outputs": [],
   "source": []
  },
  {
   "cell_type": "markdown",
   "id": "02479e2d",
   "metadata": {},
   "source": [
    "### 4. Dropping Unnecessary Columns"
   ]
  },
  {
   "cell_type": "markdown",
   "id": "f2f6c794",
   "metadata": {},
   "source": [
    "[Back to Top](#Table-of-Content)"
   ]
  },
  {
   "cell_type": "code",
   "execution_count": 12,
   "id": "b49734c1",
   "metadata": {},
   "outputs": [],
   "source": [
    "df.drop(['Unnamed: 0',\n",
    "         'price',\n",
    "         'taster_twitter_handle',\n",
    "         'title',\n",
    "         'designation',\n",
    "         'region_1',\n",
    "         'taster_name',\n",
    "         'region_2'],\n",
    "        axis=1,\n",
    "        inplace=True)"
   ]
  },
  {
   "cell_type": "markdown",
   "id": "f929dc3c",
   "metadata": {},
   "source": [
    "### 5. Dropping Empty Rows"
   ]
  },
  {
   "cell_type": "markdown",
   "id": "755e5d04",
   "metadata": {},
   "source": [
    "[Back to Top](#Table-of-Content)"
   ]
  },
  {
   "cell_type": "code",
   "execution_count": 13,
   "id": "1cb5cbe4",
   "metadata": {},
   "outputs": [],
   "source": [
    "df = df.dropna()"
   ]
  },
  {
   "cell_type": "code",
   "execution_count": null,
   "id": "5357ade2",
   "metadata": {},
   "outputs": [],
   "source": []
  },
  {
   "cell_type": "markdown",
   "id": "0d1edc46",
   "metadata": {},
   "source": [
    "### 6. Modfying Columns"
   ]
  },
  {
   "cell_type": "markdown",
   "id": "695fee24",
   "metadata": {},
   "source": [
    "[Back to Top](#Table-of-Content)"
   ]
  },
  {
   "cell_type": "markdown",
   "id": "bcbc1a9c",
   "metadata": {},
   "source": [
    "#### 6.1 Encoding \"points\" Column"
   ]
  },
  {
   "cell_type": "code",
   "execution_count": 14,
   "id": "cdd0e2e9",
   "metadata": {},
   "outputs": [],
   "source": [
    "df['points'] = np.where(df['points']>90,1,0)"
   ]
  },
  {
   "cell_type": "markdown",
   "id": "64a59e92",
   "metadata": {},
   "source": [
    "#### 6.2 \"country\" Column"
   ]
  },
  {
   "cell_type": "code",
   "execution_count": 15,
   "id": "2af310bb",
   "metadata": {},
   "outputs": [],
   "source": [
    "low_country = list(df['country'].value_counts().index)[12:]"
   ]
  },
  {
   "cell_type": "code",
   "execution_count": 16,
   "id": "6108599f",
   "metadata": {},
   "outputs": [],
   "source": [
    "for index, row in df.iterrows():\n",
    "    if row['country'] in low_country:\n",
    "        row['country'] = \"Other_Countries\"\n",
    "            "
   ]
  },
  {
   "cell_type": "markdown",
   "id": "3ea16bf9",
   "metadata": {},
   "source": [
    "#### 6.3 \"province\" Column"
   ]
  },
  {
   "cell_type": "code",
   "execution_count": 17,
   "id": "1cf82ebe",
   "metadata": {},
   "outputs": [],
   "source": [
    "low_pro = list(df['province'].value_counts().index)[40:]"
   ]
  },
  {
   "cell_type": "code",
   "execution_count": 18,
   "id": "b918a3ba",
   "metadata": {},
   "outputs": [],
   "source": [
    "for index, row in df.iterrows():\n",
    "    if row['province'] in low_pro:\n",
    "        row['province'] = \"Other_Provinces\""
   ]
  },
  {
   "cell_type": "code",
   "execution_count": 19,
   "id": "aee064de",
   "metadata": {},
   "outputs": [],
   "source": [
    "df['province'] = np.where(df['province']==\"Other\",\"Other_Provinces\",df['province'])"
   ]
  },
  {
   "cell_type": "markdown",
   "id": "0291b3ab",
   "metadata": {},
   "source": [
    "#### 6.4 \"province\" Column"
   ]
  },
  {
   "cell_type": "code",
   "execution_count": 20,
   "id": "41ce1f5d",
   "metadata": {},
   "outputs": [],
   "source": [
    "good_win = list(df['winery'].value_counts().index)[:2000]"
   ]
  },
  {
   "cell_type": "code",
   "execution_count": 21,
   "id": "19d7256c",
   "metadata": {},
   "outputs": [],
   "source": [
    "for index, row in df.iterrows():\n",
    "    if row['winery'] in good_win:\n",
    "        row['winery'] = \"Good_Winery\"\n",
    "    else:\n",
    "        row['winery'] = \"Bad_Winery\""
   ]
  },
  {
   "cell_type": "markdown",
   "id": "46ef1f42",
   "metadata": {},
   "source": [
    "#### 6.5 \"variety\" Column"
   ]
  },
  {
   "cell_type": "code",
   "execution_count": 22,
   "id": "49752b5a",
   "metadata": {},
   "outputs": [],
   "source": [
    "low_variety = list(df['variety'].value_counts().index)[30:]"
   ]
  },
  {
   "cell_type": "code",
   "execution_count": 23,
   "id": "be994ab8",
   "metadata": {},
   "outputs": [],
   "source": [
    "for index, row in df.iterrows():\n",
    "    if row['variety'] in low_variety:\n",
    "        row['variety'] = \"Other_Variety\""
   ]
  },
  {
   "cell_type": "code",
   "execution_count": null,
   "id": "da4fbe4d",
   "metadata": {},
   "outputs": [],
   "source": []
  },
  {
   "cell_type": "markdown",
   "id": "e8656145",
   "metadata": {},
   "source": [
    "### 7. Setting Feature and Target Columns"
   ]
  },
  {
   "cell_type": "markdown",
   "id": "a834e339",
   "metadata": {},
   "source": [
    "[Back to Top](#Table-of-Content)"
   ]
  },
  {
   "cell_type": "code",
   "execution_count": 24,
   "id": "b7496e57",
   "metadata": {},
   "outputs": [],
   "source": [
    "y = df['points'].values"
   ]
  },
  {
   "cell_type": "code",
   "execution_count": 25,
   "id": "cd584f5a",
   "metadata": {},
   "outputs": [
    {
     "data": {
      "text/plain": [
       "array([0, 0, 0, ..., 0, 0, 0])"
      ]
     },
     "execution_count": 25,
     "metadata": {},
     "output_type": "execute_result"
    }
   ],
   "source": [
    "y"
   ]
  },
  {
   "cell_type": "code",
   "execution_count": 26,
   "id": "0b5977b4",
   "metadata": {},
   "outputs": [
    {
     "data": {
      "text/plain": [
       "array([0, 0, 0, ..., 0, 0, 0])"
      ]
     },
     "execution_count": 26,
     "metadata": {},
     "output_type": "execute_result"
    }
   ],
   "source": [
    "y"
   ]
  },
  {
   "cell_type": "code",
   "execution_count": 27,
   "id": "acee9aac",
   "metadata": {},
   "outputs": [],
   "source": [
    "X=df.drop('points',axis=1)"
   ]
  },
  {
   "cell_type": "code",
   "execution_count": 28,
   "id": "41d922c9",
   "metadata": {},
   "outputs": [
    {
     "data": {
      "text/html": [
       "<div>\n",
       "<style scoped>\n",
       "    .dataframe tbody tr th:only-of-type {\n",
       "        vertical-align: middle;\n",
       "    }\n",
       "\n",
       "    .dataframe tbody tr th {\n",
       "        vertical-align: top;\n",
       "    }\n",
       "\n",
       "    .dataframe thead th {\n",
       "        text-align: right;\n",
       "    }\n",
       "</style>\n",
       "<table border=\"1\" class=\"dataframe\">\n",
       "  <thead>\n",
       "    <tr style=\"text-align: right;\">\n",
       "      <th></th>\n",
       "      <th>country</th>\n",
       "      <th>description</th>\n",
       "      <th>province</th>\n",
       "      <th>variety</th>\n",
       "      <th>winery</th>\n",
       "    </tr>\n",
       "  </thead>\n",
       "  <tbody>\n",
       "    <tr>\n",
       "      <th>0</th>\n",
       "      <td>Italy</td>\n",
       "      <td>Aromas include tropical fruit, broom, brimston...</td>\n",
       "      <td>Sicily &amp; Sardinia</td>\n",
       "      <td>White Blend</td>\n",
       "      <td>Nicosia</td>\n",
       "    </tr>\n",
       "    <tr>\n",
       "      <th>1</th>\n",
       "      <td>Portugal</td>\n",
       "      <td>This is ripe and fruity, a wine that is smooth...</td>\n",
       "      <td>Douro</td>\n",
       "      <td>Portuguese Red</td>\n",
       "      <td>Quinta dos Avidagos</td>\n",
       "    </tr>\n",
       "    <tr>\n",
       "      <th>2</th>\n",
       "      <td>US</td>\n",
       "      <td>Tart and snappy, the flavors of lime flesh and...</td>\n",
       "      <td>Oregon</td>\n",
       "      <td>Pinot Gris</td>\n",
       "      <td>Rainstorm</td>\n",
       "    </tr>\n",
       "    <tr>\n",
       "      <th>3</th>\n",
       "      <td>US</td>\n",
       "      <td>Pineapple rind, lemon pith and orange blossom ...</td>\n",
       "      <td>Michigan</td>\n",
       "      <td>Riesling</td>\n",
       "      <td>St. Julian</td>\n",
       "    </tr>\n",
       "    <tr>\n",
       "      <th>4</th>\n",
       "      <td>US</td>\n",
       "      <td>Much like the regular bottling from 2012, this...</td>\n",
       "      <td>Oregon</td>\n",
       "      <td>Pinot Noir</td>\n",
       "      <td>Sweet Cheeks</td>\n",
       "    </tr>\n",
       "    <tr>\n",
       "      <th>...</th>\n",
       "      <td>...</td>\n",
       "      <td>...</td>\n",
       "      <td>...</td>\n",
       "      <td>...</td>\n",
       "      <td>...</td>\n",
       "    </tr>\n",
       "    <tr>\n",
       "      <th>129966</th>\n",
       "      <td>Germany</td>\n",
       "      <td>Notes of honeysuckle and cantaloupe sweeten th...</td>\n",
       "      <td>Mosel</td>\n",
       "      <td>Riesling</td>\n",
       "      <td>Dr. H. Thanisch (Erben Müller-Burggraef)</td>\n",
       "    </tr>\n",
       "    <tr>\n",
       "      <th>129967</th>\n",
       "      <td>US</td>\n",
       "      <td>Citation is given as much as a decade of bottl...</td>\n",
       "      <td>Oregon</td>\n",
       "      <td>Pinot Noir</td>\n",
       "      <td>Citation</td>\n",
       "    </tr>\n",
       "    <tr>\n",
       "      <th>129968</th>\n",
       "      <td>France</td>\n",
       "      <td>Well-drained gravel soil gives this wine its c...</td>\n",
       "      <td>Alsace</td>\n",
       "      <td>Gewürztraminer</td>\n",
       "      <td>Domaine Gresser</td>\n",
       "    </tr>\n",
       "    <tr>\n",
       "      <th>129969</th>\n",
       "      <td>France</td>\n",
       "      <td>A dry style of Pinot Gris, this is crisp with ...</td>\n",
       "      <td>Alsace</td>\n",
       "      <td>Pinot Gris</td>\n",
       "      <td>Domaine Marcel Deiss</td>\n",
       "    </tr>\n",
       "    <tr>\n",
       "      <th>129970</th>\n",
       "      <td>France</td>\n",
       "      <td>Big, rich and off-dry, this is powered by inte...</td>\n",
       "      <td>Alsace</td>\n",
       "      <td>Gewürztraminer</td>\n",
       "      <td>Domaine Schoffit</td>\n",
       "    </tr>\n",
       "  </tbody>\n",
       "</table>\n",
       "<p>129907 rows × 5 columns</p>\n",
       "</div>"
      ],
      "text/plain": [
       "         country                                        description  \\\n",
       "0          Italy  Aromas include tropical fruit, broom, brimston...   \n",
       "1       Portugal  This is ripe and fruity, a wine that is smooth...   \n",
       "2             US  Tart and snappy, the flavors of lime flesh and...   \n",
       "3             US  Pineapple rind, lemon pith and orange blossom ...   \n",
       "4             US  Much like the regular bottling from 2012, this...   \n",
       "...          ...                                                ...   \n",
       "129966   Germany  Notes of honeysuckle and cantaloupe sweeten th...   \n",
       "129967        US  Citation is given as much as a decade of bottl...   \n",
       "129968    France  Well-drained gravel soil gives this wine its c...   \n",
       "129969    France  A dry style of Pinot Gris, this is crisp with ...   \n",
       "129970    France  Big, rich and off-dry, this is powered by inte...   \n",
       "\n",
       "                 province         variety  \\\n",
       "0       Sicily & Sardinia     White Blend   \n",
       "1                   Douro  Portuguese Red   \n",
       "2                  Oregon      Pinot Gris   \n",
       "3                Michigan        Riesling   \n",
       "4                  Oregon      Pinot Noir   \n",
       "...                   ...             ...   \n",
       "129966              Mosel        Riesling   \n",
       "129967             Oregon      Pinot Noir   \n",
       "129968             Alsace  Gewürztraminer   \n",
       "129969             Alsace      Pinot Gris   \n",
       "129970             Alsace  Gewürztraminer   \n",
       "\n",
       "                                          winery  \n",
       "0                                        Nicosia  \n",
       "1                            Quinta dos Avidagos  \n",
       "2                                      Rainstorm  \n",
       "3                                     St. Julian  \n",
       "4                                   Sweet Cheeks  \n",
       "...                                          ...  \n",
       "129966  Dr. H. Thanisch (Erben Müller-Burggraef)  \n",
       "129967                                  Citation  \n",
       "129968                           Domaine Gresser  \n",
       "129969                      Domaine Marcel Deiss  \n",
       "129970                          Domaine Schoffit  \n",
       "\n",
       "[129907 rows x 5 columns]"
      ]
     },
     "execution_count": 28,
     "metadata": {},
     "output_type": "execute_result"
    }
   ],
   "source": [
    "X"
   ]
  },
  {
   "cell_type": "code",
   "execution_count": 29,
   "id": "f9657fc4",
   "metadata": {},
   "outputs": [],
   "source": [
    "df.reset_index(drop=True,inplace=True)"
   ]
  },
  {
   "cell_type": "code",
   "execution_count": 30,
   "id": "9ba928e2",
   "metadata": {},
   "outputs": [
    {
     "data": {
      "text/plain": [
       "(129907, 6)"
      ]
     },
     "execution_count": 30,
     "metadata": {},
     "output_type": "execute_result"
    }
   ],
   "source": [
    "df.shape"
   ]
  },
  {
   "cell_type": "code",
   "execution_count": 31,
   "id": "5ec26345",
   "metadata": {},
   "outputs": [
    {
     "data": {
      "text/html": [
       "<div>\n",
       "<style scoped>\n",
       "    .dataframe tbody tr th:only-of-type {\n",
       "        vertical-align: middle;\n",
       "    }\n",
       "\n",
       "    .dataframe tbody tr th {\n",
       "        vertical-align: top;\n",
       "    }\n",
       "\n",
       "    .dataframe thead th {\n",
       "        text-align: right;\n",
       "    }\n",
       "</style>\n",
       "<table border=\"1\" class=\"dataframe\">\n",
       "  <thead>\n",
       "    <tr style=\"text-align: right;\">\n",
       "      <th></th>\n",
       "      <th>country</th>\n",
       "      <th>description</th>\n",
       "      <th>points</th>\n",
       "      <th>province</th>\n",
       "      <th>variety</th>\n",
       "      <th>winery</th>\n",
       "    </tr>\n",
       "  </thead>\n",
       "  <tbody>\n",
       "    <tr>\n",
       "      <th>129902</th>\n",
       "      <td>Germany</td>\n",
       "      <td>Notes of honeysuckle and cantaloupe sweeten th...</td>\n",
       "      <td>0</td>\n",
       "      <td>Mosel</td>\n",
       "      <td>Riesling</td>\n",
       "      <td>Dr. H. Thanisch (Erben Müller-Burggraef)</td>\n",
       "    </tr>\n",
       "    <tr>\n",
       "      <th>129903</th>\n",
       "      <td>US</td>\n",
       "      <td>Citation is given as much as a decade of bottl...</td>\n",
       "      <td>0</td>\n",
       "      <td>Oregon</td>\n",
       "      <td>Pinot Noir</td>\n",
       "      <td>Citation</td>\n",
       "    </tr>\n",
       "    <tr>\n",
       "      <th>129904</th>\n",
       "      <td>France</td>\n",
       "      <td>Well-drained gravel soil gives this wine its c...</td>\n",
       "      <td>0</td>\n",
       "      <td>Alsace</td>\n",
       "      <td>Gewürztraminer</td>\n",
       "      <td>Domaine Gresser</td>\n",
       "    </tr>\n",
       "    <tr>\n",
       "      <th>129905</th>\n",
       "      <td>France</td>\n",
       "      <td>A dry style of Pinot Gris, this is crisp with ...</td>\n",
       "      <td>0</td>\n",
       "      <td>Alsace</td>\n",
       "      <td>Pinot Gris</td>\n",
       "      <td>Domaine Marcel Deiss</td>\n",
       "    </tr>\n",
       "    <tr>\n",
       "      <th>129906</th>\n",
       "      <td>France</td>\n",
       "      <td>Big, rich and off-dry, this is powered by inte...</td>\n",
       "      <td>0</td>\n",
       "      <td>Alsace</td>\n",
       "      <td>Gewürztraminer</td>\n",
       "      <td>Domaine Schoffit</td>\n",
       "    </tr>\n",
       "  </tbody>\n",
       "</table>\n",
       "</div>"
      ],
      "text/plain": [
       "        country                                        description  points  \\\n",
       "129902  Germany  Notes of honeysuckle and cantaloupe sweeten th...       0   \n",
       "129903       US  Citation is given as much as a decade of bottl...       0   \n",
       "129904   France  Well-drained gravel soil gives this wine its c...       0   \n",
       "129905   France  A dry style of Pinot Gris, this is crisp with ...       0   \n",
       "129906   France  Big, rich and off-dry, this is powered by inte...       0   \n",
       "\n",
       "       province         variety                                    winery  \n",
       "129902    Mosel        Riesling  Dr. H. Thanisch (Erben Müller-Burggraef)  \n",
       "129903   Oregon      Pinot Noir                                  Citation  \n",
       "129904   Alsace  Gewürztraminer                           Domaine Gresser  \n",
       "129905   Alsace      Pinot Gris                      Domaine Marcel Deiss  \n",
       "129906   Alsace  Gewürztraminer                          Domaine Schoffit  "
      ]
     },
     "execution_count": 31,
     "metadata": {},
     "output_type": "execute_result"
    }
   ],
   "source": [
    "df.tail()"
   ]
  },
  {
   "cell_type": "markdown",
   "id": "470e7518",
   "metadata": {},
   "source": [
    "### 8. NLP on Data"
   ]
  },
  {
   "cell_type": "markdown",
   "id": "786c68f5",
   "metadata": {},
   "source": [
    "[Back to Top](#Table-of-Content)"
   ]
  },
  {
   "cell_type": "code",
   "execution_count": null,
   "id": "be4061e8",
   "metadata": {},
   "outputs": [],
   "source": []
  },
  {
   "cell_type": "code",
   "execution_count": 32,
   "id": "7e1642b7",
   "metadata": {},
   "outputs": [
    {
     "data": {
      "text/plain": [
       "'Big, rich and off-dry, this is powered by intense spiciness and rounded texture. Lychees dominate the fruit profile, giving an opulent feel to the aftertaste. Drink now.'"
      ]
     },
     "execution_count": 32,
     "metadata": {},
     "output_type": "execute_result"
    }
   ],
   "source": [
    "df['description'][129906]"
   ]
  },
  {
   "cell_type": "code",
   "execution_count": null,
   "id": "ba2b10bc",
   "metadata": {},
   "outputs": [],
   "source": []
  },
  {
   "cell_type": "code",
   "execution_count": 33,
   "id": "13c04906",
   "metadata": {},
   "outputs": [],
   "source": [
    "data = []\n",
    "for i in range(0,129906):\n",
    "    rev = df['description'][i]\n",
    "    \n",
    "    # Removing Special Characters\n",
    "    rev = re.sub('[^a-zA-Z]',\" \",rev)\n",
    "    \n",
    "    # Converting to Lower Case\n",
    "    rev = rev.lower()\n",
    "    \n",
    "    # Spliting Sentences to List of Words\n",
    "    rev = rev.split()\n",
    "    \n",
    "    # Stemming and Stop Word Removal\n",
    "    rev = [ps.stem(word) for word in rev if not word in set(stopwords.words('english'))]\n",
    "    \n",
    "    # Re-Forming Sentence\n",
    "    rev = \" \".join(rev)\n",
    "    \n",
    "    # Appending to Corpus\n",
    "    data.append(rev)"
   ]
  },
  {
   "cell_type": "code",
   "execution_count": 34,
   "id": "d7a87f29",
   "metadata": {},
   "outputs": [
    {
     "data": {
      "text/plain": [
       "129906"
      ]
     },
     "execution_count": 34,
     "metadata": {},
     "output_type": "execute_result"
    }
   ],
   "source": [
    "len(data)"
   ]
  },
  {
   "cell_type": "code",
   "execution_count": 35,
   "id": "82e515d8",
   "metadata": {},
   "outputs": [
    {
     "data": {
      "text/plain": [
       "['aroma includ tropic fruit broom brimston dri herb palat overli express offer unripen appl citru dri sage alongsid brisk acid',\n",
       " 'ripe fruiti wine smooth still structur firm tannin fill juici red berri fruit freshen acid alreadi drinkabl although certainli better',\n",
       " 'tart snappi flavor lime flesh rind domin green pineappl poke crisp acid underscor flavor wine stainless steel ferment',\n",
       " 'pineappl rind lemon pith orang blossom start aroma palat bit opul note honey drizzl guava mango give way slightli astring semidri finish',\n",
       " 'much like regular bottl come across rather rough tannic rustic earthi herbal characterist nonetheless think pleasantli unfussi countri wine good companion hearti winter stew']"
      ]
     },
     "execution_count": 35,
     "metadata": {},
     "output_type": "execute_result"
    }
   ],
   "source": [
    "data[0:5]"
   ]
  },
  {
   "cell_type": "code",
   "execution_count": 36,
   "id": "82f95107",
   "metadata": {},
   "outputs": [],
   "source": [
    "for i in range(129907):\n",
    "    try:\n",
    "        data[i] = data[i] +\" \"+df.loc[i,('country')]+\" \"+df.loc[i,('province')]+\" \"+df.loc[i,('variety')]+\" \"+df.loc[i,('winery')] \n",
    "    except:\n",
    "        pass"
   ]
  },
  {
   "cell_type": "code",
   "execution_count": 37,
   "id": "d9f64ef8",
   "metadata": {},
   "outputs": [
    {
     "data": {
      "text/plain": [
       "['aroma includ tropic fruit broom brimston dri herb palat overli express offer unripen appl citru dri sage alongsid brisk acid Italy Sicily & Sardinia White Blend Nicosia',\n",
       " 'ripe fruiti wine smooth still structur firm tannin fill juici red berri fruit freshen acid alreadi drinkabl although certainli better Portugal Douro Portuguese Red Quinta dos Avidagos',\n",
       " 'tart snappi flavor lime flesh rind domin green pineappl poke crisp acid underscor flavor wine stainless steel ferment US Oregon Pinot Gris Rainstorm',\n",
       " 'pineappl rind lemon pith orang blossom start aroma palat bit opul note honey drizzl guava mango give way slightli astring semidri finish US Michigan Riesling St. Julian',\n",
       " 'much like regular bottl come across rather rough tannic rustic earthi herbal characterist nonetheless think pleasantli unfussi countri wine good companion hearti winter stew US Oregon Pinot Noir Sweet Cheeks']"
      ]
     },
     "execution_count": 37,
     "metadata": {},
     "output_type": "execute_result"
    }
   ],
   "source": [
    "data[:5]"
   ]
  },
  {
   "cell_type": "code",
   "execution_count": 38,
   "id": "93dd45de",
   "metadata": {},
   "outputs": [],
   "source": [
    "X = cv.fit_transform(data).toarray()"
   ]
  },
  {
   "cell_type": "code",
   "execution_count": null,
   "id": "b8e692c7",
   "metadata": {},
   "outputs": [],
   "source": []
  },
  {
   "cell_type": "markdown",
   "id": "e75006f5",
   "metadata": {},
   "source": [
    "### 9. Train Test Split"
   ]
  },
  {
   "cell_type": "markdown",
   "id": "42d48474",
   "metadata": {},
   "source": [
    "[Back to Top](#Table-of-Content)"
   ]
  },
  {
   "cell_type": "code",
   "execution_count": 41,
   "id": "dac71b51",
   "metadata": {},
   "outputs": [
    {
     "data": {
      "text/plain": [
       "(129906, 4000)"
      ]
     },
     "execution_count": 41,
     "metadata": {},
     "output_type": "execute_result"
    }
   ],
   "source": [
    "X.shape"
   ]
  },
  {
   "cell_type": "code",
   "execution_count": 48,
   "id": "e212591e",
   "metadata": {},
   "outputs": [],
   "source": [
    "y = y[:129906]"
   ]
  },
  {
   "cell_type": "code",
   "execution_count": 49,
   "id": "b797cf50",
   "metadata": {},
   "outputs": [],
   "source": [
    "X_train,X_test,y_train,y_test = train_test_split(X,y,test_size=0.3,random_state=114,stratify=y)"
   ]
  },
  {
   "cell_type": "code",
   "execution_count": null,
   "id": "366f6cab",
   "metadata": {},
   "outputs": [],
   "source": []
  },
  {
   "cell_type": "markdown",
   "id": "ee713ae6",
   "metadata": {},
   "source": [
    "### 10. Building Model"
   ]
  },
  {
   "cell_type": "markdown",
   "id": "85398294",
   "metadata": {},
   "source": [
    "[Back to Top](#Table-of-Content)"
   ]
  },
  {
   "cell_type": "markdown",
   "id": "e919fe52",
   "metadata": {},
   "source": [
    "#### 10.1 Initializing Model"
   ]
  },
  {
   "cell_type": "code",
   "execution_count": 50,
   "id": "6604cffb",
   "metadata": {},
   "outputs": [],
   "source": [
    "model = Sequential()"
   ]
  },
  {
   "cell_type": "markdown",
   "id": "2f5321d1",
   "metadata": {},
   "source": [
    "#### 10.2 Adding Hidden Layers"
   ]
  },
  {
   "cell_type": "code",
   "execution_count": 51,
   "id": "7b290a58",
   "metadata": {},
   "outputs": [],
   "source": [
    "model.add(Dense(units = 4000,\n",
    "                kernel_initializer=\"random_uniform\",\n",
    "                activation=\"relu\"))\n",
    "\n",
    "model.add(Dense(units = 3000,\n",
    "                kernel_initializer=\"random_uniform\",\n",
    "                activation=\"relu\"))\n",
    "\n",
    "model.add(Dense(units = 1000,\n",
    "                kernel_initializer=\"random_uniform\",\n",
    "                activation=\"relu\"))"
   ]
  },
  {
   "cell_type": "markdown",
   "id": "5d33537c",
   "metadata": {},
   "source": [
    "#### 10.3 Adding Output Layer"
   ]
  },
  {
   "cell_type": "code",
   "execution_count": 52,
   "id": "9e1556a8",
   "metadata": {},
   "outputs": [],
   "source": [
    "model.add(Dense(units = 1,\n",
    "                kernel_initializer=\"random_uniform\",\n",
    "                activation=\"sigmoid\"))"
   ]
  },
  {
   "cell_type": "code",
   "execution_count": null,
   "id": "c7d04691",
   "metadata": {},
   "outputs": [],
   "source": []
  },
  {
   "cell_type": "markdown",
   "id": "d497f949",
   "metadata": {},
   "source": [
    "### 11. Compiling the Model"
   ]
  },
  {
   "cell_type": "markdown",
   "id": "ff7ae493",
   "metadata": {},
   "source": [
    "[Back to Top](#Table-of-Content)"
   ]
  },
  {
   "cell_type": "code",
   "execution_count": 53,
   "id": "a8bbeb8a",
   "metadata": {},
   "outputs": [],
   "source": [
    "model.compile(optimizer=\"adam\",\n",
    "              loss=\"binary_crossentropy\",\n",
    "              metrics=['accuracy'])"
   ]
  },
  {
   "cell_type": "code",
   "execution_count": null,
   "id": "e3b080df",
   "metadata": {},
   "outputs": [],
   "source": []
  },
  {
   "cell_type": "markdown",
   "id": "62c09f29",
   "metadata": {},
   "source": [
    "### 12. Training the Model"
   ]
  },
  {
   "cell_type": "markdown",
   "id": "49bc633c",
   "metadata": {},
   "source": [
    "[Back to Top](#Table-of-Content)"
   ]
  },
  {
   "cell_type": "code",
   "execution_count": 54,
   "id": "15609e22",
   "metadata": {},
   "outputs": [
    {
     "name": "stdout",
     "output_type": "stream",
     "text": [
      "2842/2842 [==============================] - 647s 228ms/step - loss: 0.3334 - accuracy: 0.8511\n"
     ]
    },
    {
     "data": {
      "text/plain": [
       "<tensorflow.python.keras.callbacks.History at 0x25eb0ee9b50>"
      ]
     },
     "execution_count": 54,
     "metadata": {},
     "output_type": "execute_result"
    }
   ],
   "source": [
    "model.fit(X_train,y_train,epochs=1)"
   ]
  },
  {
   "cell_type": "code",
   "execution_count": null,
   "id": "0251fb92",
   "metadata": {},
   "outputs": [],
   "source": []
  },
  {
   "cell_type": "markdown",
   "id": "8cedecae",
   "metadata": {},
   "source": [
    "### 13. Testing the Model"
   ]
  },
  {
   "cell_type": "markdown",
   "id": "0d099453",
   "metadata": {},
   "source": [
    "[Back to Top](#Table-of-Content)"
   ]
  },
  {
   "cell_type": "code",
   "execution_count": 55,
   "id": "2261228b",
   "metadata": {},
   "outputs": [],
   "source": [
    "pred = model.predict(X_test)"
   ]
  },
  {
   "cell_type": "code",
   "execution_count": 56,
   "id": "cc57eaed",
   "metadata": {},
   "outputs": [],
   "source": [
    "pred = pred>0.5"
   ]
  },
  {
   "cell_type": "markdown",
   "id": "0a854f1c",
   "metadata": {},
   "source": [
    "### 14. Model Accurecy"
   ]
  },
  {
   "cell_type": "markdown",
   "id": "727cca2c",
   "metadata": {},
   "source": [
    "[Back to Top](#Table-of-Content)"
   ]
  },
  {
   "cell_type": "code",
   "execution_count": 57,
   "id": "4dddb670",
   "metadata": {},
   "outputs": [
    {
     "data": {
      "text/plain": [
       "0.8661603202299086"
      ]
     },
     "execution_count": 57,
     "metadata": {},
     "output_type": "execute_result"
    }
   ],
   "source": [
    "accuracy_score(y_test, pred)"
   ]
  },
  {
   "cell_type": "code",
   "execution_count": null,
   "id": "22a9771c",
   "metadata": {},
   "outputs": [],
   "source": []
  },
  {
   "cell_type": "markdown",
   "id": "f84f4b97",
   "metadata": {},
   "source": [
    "### 15. Single Predictions"
   ]
  },
  {
   "cell_type": "markdown",
   "id": "207a67a7",
   "metadata": {},
   "source": [
    "[Back to Top](#Table-of-Content)"
   ]
  },
  {
   "cell_type": "code",
   "execution_count": 58,
   "id": "13693305",
   "metadata": {},
   "outputs": [
    {
     "data": {
      "text/plain": [
       "array([[0.04960445]], dtype=float32)"
      ]
     },
     "execution_count": 58,
     "metadata": {},
     "output_type": "execute_result"
    }
   ],
   "source": [
    "model.predict(cv.transform([\"Italy Bordeaux-style Red Blend Bad_Winery\"]))"
   ]
  },
  {
   "cell_type": "code",
   "execution_count": 59,
   "id": "49cd8231",
   "metadata": {},
   "outputs": [
    {
     "data": {
      "text/plain": [
       "array([[0.08979273]], dtype=float32)"
      ]
     },
     "execution_count": 59,
     "metadata": {},
     "output_type": "execute_result"
    }
   ],
   "source": [
    "model.predict(cv.transform([\"Wine India bad\"]))"
   ]
  },
  {
   "cell_type": "code",
   "execution_count": 60,
   "id": "db59ac19",
   "metadata": {},
   "outputs": [
    {
     "data": {
      "text/plain": [
       "array([[0.15743548]], dtype=float32)"
      ]
     },
     "execution_count": 60,
     "metadata": {},
     "output_type": "execute_result"
    }
   ],
   "source": [
    "model.predict(cv.transform([\"Wine Italy Best\"]))"
   ]
  },
  {
   "cell_type": "markdown",
   "id": "a7f5fb6d",
   "metadata": {},
   "source": [
    "<hr>"
   ]
  }
 ],
 "metadata": {
  "kernelspec": {
   "display_name": "Python 3",
   "language": "python",
   "name": "python3"
  },
  "language_info": {
   "codemirror_mode": {
    "name": "ipython",
    "version": 3
   },
   "file_extension": ".py",
   "mimetype": "text/x-python",
   "name": "python",
   "nbconvert_exporter": "python",
   "pygments_lexer": "ipython3",
   "version": "3.8.8"
  }
 },
 "nbformat": 4,
 "nbformat_minor": 5
}
