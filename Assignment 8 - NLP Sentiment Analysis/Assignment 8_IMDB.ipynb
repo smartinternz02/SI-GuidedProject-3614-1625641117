{
 "cells": [
  {
   "cell_type": "markdown",
   "id": "d584ec2c",
   "metadata": {},
   "source": [
    "# <center>Assignment 8</center>"
   ]
  },
  {
   "cell_type": "markdown",
   "id": "c8a26a24",
   "metadata": {},
   "source": [
    "<hr>"
   ]
  },
  {
   "cell_type": "markdown",
   "id": "76c07cbd",
   "metadata": {},
   "source": [
    "## <center>NLP Sentiment Analysis (IMDB Dataset)</center>"
   ]
  },
  {
   "cell_type": "markdown",
   "id": "07950d89",
   "metadata": {},
   "source": [
    "**Name               :** Atharva Ramgirkar  \n",
    "**Registration Number:** 19BCE0114  \n",
    "**Submission Date    :** 15 July, 2021  \n",
    "**Program            :** VIT-AI Industry Certifiation  \n",
    "**Email              :** atharva.ramgirkar2019@vitstudent.ac.in  "
   ]
  },
  {
   "cell_type": "markdown",
   "id": "90926f42",
   "metadata": {},
   "source": [
    "*Other Assignments can be found in the link:* **https://drive.google.com/drive/folders/1QGOLHyZykoj_CroTJu6-YkZWf32JZ-QH?usp=sharing**"
   ]
  },
  {
   "cell_type": "markdown",
   "id": "2606d1b6",
   "metadata": {},
   "source": [
    "<hr>"
   ]
  },
  {
   "cell_type": "markdown",
   "id": "95da9a0f",
   "metadata": {},
   "source": [
    "## <center>Table of Content</center>\n",
    "* [Importing Libraries](#1.-Importing-Libraries)  \n",
    "    * [Initailizing Objects](1.1-Initailizing-Objects)\n",
    "* [Reading Data](#2.-Reading-Data)\n",
    "* [Understanding Data](#3.-Understanding-Data)\n",
    "    * [Checking For Null Values](#3.1-Checking-For-Null-Values)\n",
    "    * [Checking For Duplicate Values](#3.2-Checking-For-Duplicate-Values)\n",
    "        * [Dropping Duplicate Rows](#3.2.1-Dropping-Duplicate-Rows)\n",
    "    * [Checking if Dataset is Balanced](#3.3-Checking-if-Dataset-is-Balanced)\n",
    "* [Encoding Target Coulmn](#4.-Encoding-Target-Coulmn)\n",
    "* [Re-ordering the Index](#5.-Re-ordering-the-Index)\n",
    "* [Separating the Features and the Target Variable](#6.-Separating-the-Features-and-the-Target-Variable)\n",
    "    * [Storing the Target Variable](#6.1-Storing-the-Target-Variable)\n",
    "    * [NLP on the \"review\" Column](#6.2-NLP-on-the-\"review\"-Column)\n",
    "    * [Vectorizing the Features](#6.3-Vectorizing-the-Features)\n",
    "* [Train Test Split](#7.-Train-Test-Split)\n",
    "* [Model Building](#8.-Model-Building)\n",
    "    * [Initialize the Model](#8.1-Initialize-the-Model)\n",
    "    * [Add Input Layer](#8.2-Add-Input-Layer)\n",
    "    * [Add Hidden Layers](#8.3-Add-Hidden-Layers)\n",
    "    * [Add Output Layer](#8.4-Add-Output-Layer)\n",
    "* [Compile the Model](#9.-Compile-the-Model)\n",
    "* [Train the Model](#10.-Train-the-Model)\n",
    "* [Make prediction on Test Data](#11.-Make-prediction-on-Test-Data)\n",
    "* [Single Predictions](#12.-Single-Predictions)"
   ]
  },
  {
   "cell_type": "code",
   "execution_count": null,
   "id": "2d8b0ee8",
   "metadata": {},
   "outputs": [],
   "source": []
  },
  {
   "cell_type": "code",
   "execution_count": null,
   "id": "e2fbac51",
   "metadata": {},
   "outputs": [],
   "source": []
  },
  {
   "cell_type": "markdown",
   "id": "761846b3",
   "metadata": {},
   "source": [
    "### 1. Importing Libraries"
   ]
  },
  {
   "cell_type": "markdown",
   "id": "215e368d",
   "metadata": {},
   "source": [
    "[Back to Top](#Table-of-Content)"
   ]
  },
  {
   "cell_type": "code",
   "execution_count": 1,
   "id": "1c66e386",
   "metadata": {},
   "outputs": [],
   "source": [
    "import pandas as pd\n",
    "import numpy as np\n",
    "\n",
    "# For NLP \n",
    "import re\n",
    "import nltk\n",
    "from nltk.corpus import stopwords\n",
    "from nltk.stem.porter import PorterStemmer\n",
    "from sklearn.feature_extraction.text import CountVectorizer\n",
    "\n",
    "# For Train Test Split\n",
    "from sklearn.model_selection import train_test_split\n",
    "\n",
    "# For Neural Network\n",
    "from tensorflow.keras.models import Sequential\n",
    "from tensorflow.keras.layers import Dense\n",
    "\n",
    "# For handling Missing Values\n",
    "import missingno as ms\n",
    "import matplotlib.pyplot as plt\n",
    "\n",
    "# Model Evaluation \n",
    "from sklearn.metrics import accuracy_score"
   ]
  },
  {
   "cell_type": "markdown",
   "id": "d06e5b3b",
   "metadata": {},
   "source": [
    "#### 1.1 Initailizing Objects"
   ]
  },
  {
   "cell_type": "code",
   "execution_count": 2,
   "id": "6f249ca2",
   "metadata": {},
   "outputs": [],
   "source": [
    "ps = PorterStemmer()\n",
    "cv = CountVectorizer(max_features=4000)"
   ]
  },
  {
   "cell_type": "code",
   "execution_count": null,
   "id": "41cb9b79",
   "metadata": {},
   "outputs": [],
   "source": []
  },
  {
   "cell_type": "markdown",
   "id": "8e94ad01",
   "metadata": {},
   "source": [
    "### 2. Reading Data"
   ]
  },
  {
   "cell_type": "markdown",
   "id": "1d795355",
   "metadata": {},
   "source": [
    "[Back to Top](#Table-of-Content)"
   ]
  },
  {
   "cell_type": "code",
   "execution_count": 3,
   "id": "efef63d1",
   "metadata": {},
   "outputs": [],
   "source": [
    "df = pd.read_csv(\"IMDB Dataset.csv\")"
   ]
  },
  {
   "cell_type": "code",
   "execution_count": null,
   "id": "2e4d9bc3",
   "metadata": {},
   "outputs": [],
   "source": []
  },
  {
   "cell_type": "markdown",
   "id": "d6717da8",
   "metadata": {},
   "source": [
    "### 3. Understanding Data"
   ]
  },
  {
   "cell_type": "markdown",
   "id": "4996115d",
   "metadata": {},
   "source": [
    "[Back to Top](#Table-of-Content)"
   ]
  },
  {
   "cell_type": "code",
   "execution_count": 4,
   "id": "59d34669",
   "metadata": {},
   "outputs": [
    {
     "data": {
      "text/html": [
       "<div>\n",
       "<style scoped>\n",
       "    .dataframe tbody tr th:only-of-type {\n",
       "        vertical-align: middle;\n",
       "    }\n",
       "\n",
       "    .dataframe tbody tr th {\n",
       "        vertical-align: top;\n",
       "    }\n",
       "\n",
       "    .dataframe thead th {\n",
       "        text-align: right;\n",
       "    }\n",
       "</style>\n",
       "<table border=\"1\" class=\"dataframe\">\n",
       "  <thead>\n",
       "    <tr style=\"text-align: right;\">\n",
       "      <th></th>\n",
       "      <th>review</th>\n",
       "      <th>sentiment</th>\n",
       "    </tr>\n",
       "  </thead>\n",
       "  <tbody>\n",
       "    <tr>\n",
       "      <th>0</th>\n",
       "      <td>One of the other reviewers has mentioned that ...</td>\n",
       "      <td>positive</td>\n",
       "    </tr>\n",
       "    <tr>\n",
       "      <th>1</th>\n",
       "      <td>A wonderful little production. &lt;br /&gt;&lt;br /&gt;The...</td>\n",
       "      <td>positive</td>\n",
       "    </tr>\n",
       "    <tr>\n",
       "      <th>2</th>\n",
       "      <td>I thought this was a wonderful way to spend ti...</td>\n",
       "      <td>positive</td>\n",
       "    </tr>\n",
       "    <tr>\n",
       "      <th>3</th>\n",
       "      <td>Basically there's a family where a little boy ...</td>\n",
       "      <td>negative</td>\n",
       "    </tr>\n",
       "    <tr>\n",
       "      <th>4</th>\n",
       "      <td>Petter Mattei's \"Love in the Time of Money\" is...</td>\n",
       "      <td>positive</td>\n",
       "    </tr>\n",
       "  </tbody>\n",
       "</table>\n",
       "</div>"
      ],
      "text/plain": [
       "                                              review sentiment\n",
       "0  One of the other reviewers has mentioned that ...  positive\n",
       "1  A wonderful little production. <br /><br />The...  positive\n",
       "2  I thought this was a wonderful way to spend ti...  positive\n",
       "3  Basically there's a family where a little boy ...  negative\n",
       "4  Petter Mattei's \"Love in the Time of Money\" is...  positive"
      ]
     },
     "execution_count": 4,
     "metadata": {},
     "output_type": "execute_result"
    }
   ],
   "source": [
    "df.head()"
   ]
  },
  {
   "cell_type": "markdown",
   "id": "dc74b395",
   "metadata": {},
   "source": [
    "#### 3.1 Checking For Null Values"
   ]
  },
  {
   "cell_type": "code",
   "execution_count": 5,
   "id": "d24900e8",
   "metadata": {},
   "outputs": [
    {
     "data": {
      "text/plain": [
       "review       0\n",
       "sentiment    0\n",
       "dtype: int64"
      ]
     },
     "execution_count": 5,
     "metadata": {},
     "output_type": "execute_result"
    }
   ],
   "source": [
    "df.isnull().sum()"
   ]
  },
  {
   "cell_type": "markdown",
   "id": "07f68bb6",
   "metadata": {},
   "source": [
    "#### 3.2 Checking For Duplicate Values"
   ]
  },
  {
   "cell_type": "code",
   "execution_count": 6,
   "id": "7943a14b",
   "metadata": {},
   "outputs": [
    {
     "data": {
      "text/plain": [
       "(50000, 2)"
      ]
     },
     "execution_count": 6,
     "metadata": {},
     "output_type": "execute_result"
    }
   ],
   "source": [
    "df.shape"
   ]
  },
  {
   "cell_type": "code",
   "execution_count": 7,
   "id": "f9edbe92",
   "metadata": {},
   "outputs": [
    {
     "data": {
      "text/plain": [
       "49582"
      ]
     },
     "execution_count": 7,
     "metadata": {},
     "output_type": "execute_result"
    }
   ],
   "source": [
    "len(df['review'].unique())"
   ]
  },
  {
   "cell_type": "markdown",
   "id": "546f97b2",
   "metadata": {},
   "source": [
    "##### 3.2.1 Dropping Duplicate Rows"
   ]
  },
  {
   "cell_type": "code",
   "execution_count": 4,
   "id": "3b3e6f1d",
   "metadata": {},
   "outputs": [],
   "source": [
    "df.drop_duplicates(inplace=True)"
   ]
  },
  {
   "cell_type": "code",
   "execution_count": 9,
   "id": "c6203563",
   "metadata": {},
   "outputs": [
    {
     "data": {
      "text/plain": [
       "(49582, 2)"
      ]
     },
     "execution_count": 9,
     "metadata": {},
     "output_type": "execute_result"
    }
   ],
   "source": [
    "df.shape"
   ]
  },
  {
   "cell_type": "code",
   "execution_count": 10,
   "id": "9614fb82",
   "metadata": {},
   "outputs": [
    {
     "data": {
      "text/plain": [
       "49582"
      ]
     },
     "execution_count": 10,
     "metadata": {},
     "output_type": "execute_result"
    }
   ],
   "source": [
    "len(df['review'].unique())"
   ]
  },
  {
   "cell_type": "code",
   "execution_count": 11,
   "id": "ea65aeb6",
   "metadata": {},
   "outputs": [
    {
     "data": {
      "text/html": [
       "<div>\n",
       "<style scoped>\n",
       "    .dataframe tbody tr th:only-of-type {\n",
       "        vertical-align: middle;\n",
       "    }\n",
       "\n",
       "    .dataframe tbody tr th {\n",
       "        vertical-align: top;\n",
       "    }\n",
       "\n",
       "    .dataframe thead th {\n",
       "        text-align: right;\n",
       "    }\n",
       "</style>\n",
       "<table border=\"1\" class=\"dataframe\">\n",
       "  <thead>\n",
       "    <tr style=\"text-align: right;\">\n",
       "      <th></th>\n",
       "      <th>review</th>\n",
       "      <th>sentiment</th>\n",
       "    </tr>\n",
       "  </thead>\n",
       "  <tbody>\n",
       "    <tr>\n",
       "      <th>0</th>\n",
       "      <td>One of the other reviewers has mentioned that ...</td>\n",
       "      <td>positive</td>\n",
       "    </tr>\n",
       "    <tr>\n",
       "      <th>1</th>\n",
       "      <td>A wonderful little production. &lt;br /&gt;&lt;br /&gt;The...</td>\n",
       "      <td>positive</td>\n",
       "    </tr>\n",
       "    <tr>\n",
       "      <th>2</th>\n",
       "      <td>I thought this was a wonderful way to spend ti...</td>\n",
       "      <td>positive</td>\n",
       "    </tr>\n",
       "    <tr>\n",
       "      <th>3</th>\n",
       "      <td>Basically there's a family where a little boy ...</td>\n",
       "      <td>negative</td>\n",
       "    </tr>\n",
       "    <tr>\n",
       "      <th>4</th>\n",
       "      <td>Petter Mattei's \"Love in the Time of Money\" is...</td>\n",
       "      <td>positive</td>\n",
       "    </tr>\n",
       "  </tbody>\n",
       "</table>\n",
       "</div>"
      ],
      "text/plain": [
       "                                              review sentiment\n",
       "0  One of the other reviewers has mentioned that ...  positive\n",
       "1  A wonderful little production. <br /><br />The...  positive\n",
       "2  I thought this was a wonderful way to spend ti...  positive\n",
       "3  Basically there's a family where a little boy ...  negative\n",
       "4  Petter Mattei's \"Love in the Time of Money\" is...  positive"
      ]
     },
     "execution_count": 11,
     "metadata": {},
     "output_type": "execute_result"
    }
   ],
   "source": [
    "df.head()"
   ]
  },
  {
   "cell_type": "markdown",
   "id": "0e08b0dd",
   "metadata": {},
   "source": [
    "#### 3.3 Checking if Dataset is Balanced"
   ]
  },
  {
   "cell_type": "code",
   "execution_count": 12,
   "id": "3431b521",
   "metadata": {},
   "outputs": [
    {
     "data": {
      "text/plain": [
       "positive    24884\n",
       "negative    24698\n",
       "Name: sentiment, dtype: int64"
      ]
     },
     "execution_count": 12,
     "metadata": {},
     "output_type": "execute_result"
    }
   ],
   "source": [
    "df['sentiment'].value_counts()"
   ]
  },
  {
   "cell_type": "markdown",
   "id": "7c427d38",
   "metadata": {},
   "source": [
    "### 4. Encoding Target Coulmn"
   ]
  },
  {
   "cell_type": "markdown",
   "id": "c997f660",
   "metadata": {},
   "source": [
    "[Back to Top](#Table-of-Content)"
   ]
  },
  {
   "cell_type": "code",
   "execution_count": 5,
   "id": "7909e494",
   "metadata": {},
   "outputs": [],
   "source": [
    "df['sentiment'] = np.where(df['sentiment']==\"positive\",1,0)"
   ]
  },
  {
   "cell_type": "code",
   "execution_count": 14,
   "id": "b5e97322",
   "metadata": {},
   "outputs": [
    {
     "data": {
      "text/html": [
       "<div>\n",
       "<style scoped>\n",
       "    .dataframe tbody tr th:only-of-type {\n",
       "        vertical-align: middle;\n",
       "    }\n",
       "\n",
       "    .dataframe tbody tr th {\n",
       "        vertical-align: top;\n",
       "    }\n",
       "\n",
       "    .dataframe thead th {\n",
       "        text-align: right;\n",
       "    }\n",
       "</style>\n",
       "<table border=\"1\" class=\"dataframe\">\n",
       "  <thead>\n",
       "    <tr style=\"text-align: right;\">\n",
       "      <th></th>\n",
       "      <th>review</th>\n",
       "      <th>sentiment</th>\n",
       "    </tr>\n",
       "  </thead>\n",
       "  <tbody>\n",
       "    <tr>\n",
       "      <th>0</th>\n",
       "      <td>One of the other reviewers has mentioned that ...</td>\n",
       "      <td>1</td>\n",
       "    </tr>\n",
       "    <tr>\n",
       "      <th>1</th>\n",
       "      <td>A wonderful little production. &lt;br /&gt;&lt;br /&gt;The...</td>\n",
       "      <td>1</td>\n",
       "    </tr>\n",
       "    <tr>\n",
       "      <th>2</th>\n",
       "      <td>I thought this was a wonderful way to spend ti...</td>\n",
       "      <td>1</td>\n",
       "    </tr>\n",
       "    <tr>\n",
       "      <th>3</th>\n",
       "      <td>Basically there's a family where a little boy ...</td>\n",
       "      <td>0</td>\n",
       "    </tr>\n",
       "    <tr>\n",
       "      <th>4</th>\n",
       "      <td>Petter Mattei's \"Love in the Time of Money\" is...</td>\n",
       "      <td>1</td>\n",
       "    </tr>\n",
       "  </tbody>\n",
       "</table>\n",
       "</div>"
      ],
      "text/plain": [
       "                                              review  sentiment\n",
       "0  One of the other reviewers has mentioned that ...          1\n",
       "1  A wonderful little production. <br /><br />The...          1\n",
       "2  I thought this was a wonderful way to spend ti...          1\n",
       "3  Basically there's a family where a little boy ...          0\n",
       "4  Petter Mattei's \"Love in the Time of Money\" is...          1"
      ]
     },
     "execution_count": 14,
     "metadata": {},
     "output_type": "execute_result"
    }
   ],
   "source": [
    "df.head()"
   ]
  },
  {
   "cell_type": "markdown",
   "id": "9a7da093",
   "metadata": {},
   "source": [
    "### 5. Re-ordering the Index"
   ]
  },
  {
   "cell_type": "markdown",
   "id": "717f354a",
   "metadata": {},
   "source": [
    "[Back to Top](#Table-of-Content)"
   ]
  },
  {
   "cell_type": "code",
   "execution_count": 6,
   "id": "b95fc71a",
   "metadata": {},
   "outputs": [],
   "source": [
    "df.reset_index(drop=True,inplace=True)"
   ]
  },
  {
   "cell_type": "code",
   "execution_count": null,
   "id": "3322d683",
   "metadata": {},
   "outputs": [],
   "source": []
  },
  {
   "cell_type": "markdown",
   "id": "b51199f3",
   "metadata": {},
   "source": [
    "### 6. Separating the Features and the Target Variable"
   ]
  },
  {
   "cell_type": "markdown",
   "id": "df818af3",
   "metadata": {},
   "source": [
    "[Back to Top](#Table-of-Content)"
   ]
  },
  {
   "cell_type": "code",
   "execution_count": 7,
   "id": "51924c1c",
   "metadata": {},
   "outputs": [],
   "source": [
    "y = df['sentiment'].values  "
   ]
  },
  {
   "cell_type": "markdown",
   "id": "73e518c4",
   "metadata": {},
   "source": [
    "#### 6.1 Storing the Target Variable"
   ]
  },
  {
   "cell_type": "code",
   "execution_count": 16,
   "id": "ba64557a",
   "metadata": {},
   "outputs": [
    {
     "data": {
      "text/plain": [
       "array([1, 1, 1, ..., 0, 0, 0])"
      ]
     },
     "execution_count": 16,
     "metadata": {},
     "output_type": "execute_result"
    }
   ],
   "source": [
    "y"
   ]
  },
  {
   "cell_type": "markdown",
   "id": "73487c8e",
   "metadata": {},
   "source": [
    "#### 6.2 NLP on the \"review\" Column"
   ]
  },
  {
   "cell_type": "code",
   "execution_count": 8,
   "id": "4cd9738b",
   "metadata": {},
   "outputs": [],
   "source": [
    "data = []\n",
    "for i in range(0,49582):\n",
    "    rev = df['review'][i]\n",
    "    \n",
    "    # Removing Special Characters\n",
    "    rev = re.sub('[^a-zA-Z]',\" \",rev)\n",
    "    \n",
    "    # Converting to Lower Case\n",
    "    rev = rev.lower()\n",
    "    \n",
    "    # Spliting Sentences to List of Words\n",
    "    rev = rev.split()\n",
    "    \n",
    "    # Stemming and Stop Word Removal\n",
    "    rev = [ps.stem(word) for word in rev if not word in set(stopwords.words('english'))]\n",
    "    \n",
    "    # Re-Forming Sentence\n",
    "    rev = \" \".join(rev)\n",
    "    \n",
    "    # Appending to Corpus\n",
    "    data.append(rev)"
   ]
  },
  {
   "cell_type": "markdown",
   "id": "946d0e4d",
   "metadata": {},
   "source": [
    "#### 6.3 Vectorizing the Features"
   ]
  },
  {
   "cell_type": "code",
   "execution_count": 9,
   "id": "5773dd82",
   "metadata": {},
   "outputs": [],
   "source": [
    "X = cv.fit_transform(data).toarray()"
   ]
  },
  {
   "cell_type": "code",
   "execution_count": null,
   "id": "e0dae590",
   "metadata": {},
   "outputs": [],
   "source": []
  },
  {
   "cell_type": "markdown",
   "id": "2eeac7a6",
   "metadata": {},
   "source": [
    "### 7. Train Test Split"
   ]
  },
  {
   "cell_type": "markdown",
   "id": "7d564684",
   "metadata": {},
   "source": [
    "[Back to Top](#Table-of-Content)"
   ]
  },
  {
   "cell_type": "code",
   "execution_count": 10,
   "id": "fc2dde70",
   "metadata": {},
   "outputs": [],
   "source": [
    "X_train,X_test,y_train,y_test = train_test_split(X,y,test_size=0.3,random_state=114,stratify=y)"
   ]
  },
  {
   "cell_type": "code",
   "execution_count": null,
   "id": "90f3aadc",
   "metadata": {},
   "outputs": [],
   "source": []
  },
  {
   "cell_type": "markdown",
   "id": "258fd60c",
   "metadata": {},
   "source": [
    "### 8. Model Building"
   ]
  },
  {
   "cell_type": "markdown",
   "id": "edd32dca",
   "metadata": {},
   "source": [
    "[Back to Top](#Table-of-Content)"
   ]
  },
  {
   "cell_type": "markdown",
   "id": "4c168645",
   "metadata": {},
   "source": [
    "#### 8.1 Initialize the Model"
   ]
  },
  {
   "cell_type": "code",
   "execution_count": 11,
   "id": "6af2d1e4",
   "metadata": {},
   "outputs": [],
   "source": [
    "model = Sequential()"
   ]
  },
  {
   "cell_type": "markdown",
   "id": "97653316",
   "metadata": {},
   "source": [
    "#### 8.2 Add Input Layer"
   ]
  },
  {
   "cell_type": "code",
   "execution_count": 12,
   "id": "99463af6",
   "metadata": {},
   "outputs": [],
   "source": [
    "model.add(Dense(units = 4000,\n",
    "                kernel_initializer=\"random_uniform\",\n",
    "                activation=\"relu\"))"
   ]
  },
  {
   "cell_type": "markdown",
   "id": "81469084",
   "metadata": {},
   "source": [
    "#### 8.3 Add Hidden Layers"
   ]
  },
  {
   "cell_type": "code",
   "execution_count": 13,
   "id": "7ac047b5",
   "metadata": {},
   "outputs": [],
   "source": [
    "model.add(Dense(units = 2000,\n",
    "                kernel_initializer=\"random_uniform\",\n",
    "                activation=\"relu\"))\n",
    "\n",
    "model.add(Dense(units = 1000,\n",
    "                kernel_initializer=\"normal\",\n",
    "                activation=\"relu\"))"
   ]
  },
  {
   "cell_type": "markdown",
   "id": "36267c29",
   "metadata": {},
   "source": [
    "#### 8.4 Add Output Layer"
   ]
  },
  {
   "cell_type": "code",
   "execution_count": 14,
   "id": "9b8d0242",
   "metadata": {},
   "outputs": [],
   "source": [
    "model.add(Dense(units = 1,\n",
    "                kernel_initializer=\"random_uniform\",\n",
    "                activation=\"sigmoid\"))"
   ]
  },
  {
   "cell_type": "markdown",
   "id": "0c6d2a40",
   "metadata": {},
   "source": []
  },
  {
   "cell_type": "markdown",
   "id": "3eebb3de",
   "metadata": {},
   "source": [
    "### 9. Compile the Model"
   ]
  },
  {
   "cell_type": "markdown",
   "id": "df270022",
   "metadata": {},
   "source": [
    "[Back to Top](#Table-of-Content)"
   ]
  },
  {
   "cell_type": "code",
   "execution_count": 15,
   "id": "692f66bc",
   "metadata": {},
   "outputs": [],
   "source": [
    "model.compile(optimizer=\"adam\",\n",
    "              loss=\"binary_crossentropy\",\n",
    "              metrics=['accuracy'])"
   ]
  },
  {
   "cell_type": "code",
   "execution_count": null,
   "id": "f4f050ae",
   "metadata": {},
   "outputs": [],
   "source": []
  },
  {
   "cell_type": "markdown",
   "id": "904f48da",
   "metadata": {},
   "source": [
    "### 10. Train the Model"
   ]
  },
  {
   "cell_type": "markdown",
   "id": "0c7c4ae4",
   "metadata": {},
   "source": [
    "[Back to Top](#Table-of-Content)"
   ]
  },
  {
   "cell_type": "code",
   "execution_count": 16,
   "id": "6b3b572b",
   "metadata": {},
   "outputs": [
    {
     "name": "stdout",
     "output_type": "stream",
     "text": [
      "Epoch 1/2\n",
      "1085/1085 [==============================] - 199s 184ms/step - loss: 0.3416 - accuracy: 0.8583\n",
      "Epoch 2/2\n",
      "1085/1085 [==============================] - 189s 174ms/step - loss: 0.1636 - accuracy: 0.9359\n"
     ]
    },
    {
     "data": {
      "text/plain": [
       "<tensorflow.python.keras.callbacks.History at 0x16a8b5dba90>"
      ]
     },
     "execution_count": 16,
     "metadata": {},
     "output_type": "execute_result"
    }
   ],
   "source": [
    "model.fit(X_train,y_train,epochs=2)"
   ]
  },
  {
   "cell_type": "code",
   "execution_count": null,
   "id": "89fc22c3",
   "metadata": {},
   "outputs": [],
   "source": []
  },
  {
   "cell_type": "markdown",
   "id": "adf9a611",
   "metadata": {},
   "source": [
    "### 11. Make prediction on Test Data"
   ]
  },
  {
   "cell_type": "markdown",
   "id": "f8df035f",
   "metadata": {},
   "source": [
    "[Back to Top](#Table-of-Content)"
   ]
  },
  {
   "cell_type": "code",
   "execution_count": 17,
   "id": "ffe95685",
   "metadata": {},
   "outputs": [],
   "source": [
    "pred = model.predict(X_test)\n",
    "pred = pred>0.64"
   ]
  },
  {
   "cell_type": "code",
   "execution_count": 18,
   "id": "c19a094a",
   "metadata": {
    "scrolled": true
   },
   "outputs": [
    {
     "data": {
      "text/plain": [
       "0.864672268907563"
      ]
     },
     "execution_count": 18,
     "metadata": {},
     "output_type": "execute_result"
    }
   ],
   "source": [
    "accuracy_score(y_test, pred)"
   ]
  },
  {
   "cell_type": "code",
   "execution_count": null,
   "id": "be6288b9",
   "metadata": {},
   "outputs": [],
   "source": []
  },
  {
   "cell_type": "markdown",
   "id": "3cf8ee2c",
   "metadata": {},
   "source": [
    "### 12. Single Predictions"
   ]
  },
  {
   "cell_type": "markdown",
   "id": "792bcef2",
   "metadata": {},
   "source": [
    "[Back to Top](#Table-of-Content)"
   ]
  },
  {
   "cell_type": "code",
   "execution_count": 19,
   "id": "2e394d38",
   "metadata": {},
   "outputs": [
    {
     "data": {
      "text/plain": [
       "array([[0.6684723]], dtype=float32)"
      ]
     },
     "execution_count": 19,
     "metadata": {},
     "output_type": "execute_result"
    }
   ],
   "source": [
    "model.predict(cv.transform([\"amazing good awesome movie\"]))"
   ]
  },
  {
   "cell_type": "code",
   "execution_count": 20,
   "id": "44d07b00",
   "metadata": {},
   "outputs": [
    {
     "data": {
      "text/plain": [
       "array([[0.42939442]], dtype=float32)"
      ]
     },
     "execution_count": 20,
     "metadata": {},
     "output_type": "execute_result"
    }
   ],
   "source": [
    "model.predict(cv.transform([\"bad no good boring long movie\"]))"
   ]
  },
  {
   "cell_type": "code",
   "execution_count": 21,
   "id": "fd6e755b",
   "metadata": {},
   "outputs": [
    {
     "data": {
      "text/plain": [
       "array([[0.65461886]], dtype=float32)"
      ]
     },
     "execution_count": 21,
     "metadata": {},
     "output_type": "execute_result"
    }
   ],
   "source": [
    "model.predict(cv.transform([\"movie waste of time\"]))"
   ]
  },
  {
   "cell_type": "markdown",
   "id": "1b98a295",
   "metadata": {},
   "source": [
    "<hr>"
   ]
  }
 ],
 "metadata": {
  "kernelspec": {
   "display_name": "Python 3",
   "language": "python",
   "name": "python3"
  },
  "language_info": {
   "codemirror_mode": {
    "name": "ipython",
    "version": 3
   },
   "file_extension": ".py",
   "mimetype": "text/x-python",
   "name": "python",
   "nbconvert_exporter": "python",
   "pygments_lexer": "ipython3",
   "version": "3.8.8"
  }
 },
 "nbformat": 4,
 "nbformat_minor": 5
}
