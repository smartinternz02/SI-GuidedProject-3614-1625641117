{
 "cells": [
  {
   "cell_type": "markdown",
   "id": "d8f304e7",
   "metadata": {},
   "source": [
    "# <center>Assignment 9</center>"
   ]
  },
  {
   "cell_type": "markdown",
   "id": "ed6d7b40",
   "metadata": {},
   "source": [
    "## <center>RNN (Google Stock)</center>"
   ]
  },
  {
   "cell_type": "markdown",
   "id": "e3c1cd6c",
   "metadata": {},
   "source": [
    "**Name               :** Atharva Ramgirkar  \n",
    "**Registration Number:** 19BCE0114  \n",
    "**Submission Date    :** 18 July, 2021  \n",
    "**Program            :** VIT-AI Industry Certifiation  \n",
    "**Email              :** atharva.ramgirkar2019@vitstudent.ac.in  \n",
    "\n",
    "*Other Assignments can be found in the link:* **https://drive.google.com/drive/folders/1QGOLHyZykoj_CroTJu6-YkZWf32JZ-QH?usp=sharing**"
   ]
  },
  {
   "cell_type": "markdown",
   "id": "93090ff9",
   "metadata": {},
   "source": [
    "<hr>"
   ]
  },
  {
   "cell_type": "markdown",
   "id": "799b365a",
   "metadata": {},
   "source": [
    "## <center>Table of Content</center>\n",
    "* [Importing Libraries](#1.-Importing-Libraries)  \n",
    "    * [Initailizing Objects](1.1-Initailizing-Objects)\n",
    "* [Getting Data for Training](#2.-Getting-Data-for-Training)\n",
    "    * [Getting Target Variable](#2.1-Getting-Target-Variable)\n",
    "* [Scaling the Data](#3.-Scaling-the-Data)\n",
    "* [Making the Training Dataset](#4.-Making-the-Training-Dataset)\n",
    "* [Reshaping the Data to fit LSTM input](#5.-Reshaping-the-Data-to-fit-LSTM-input)\n",
    "* [Building the Model](#6.-Building-the-Model)\n",
    "    * [Adding Hidden Layers](#6.1-Adding-Hidden-Layers)\n",
    "    * [Adding Output Layer](#6.2-Adding-Output-Layer)\n",
    "* [Compiling the Model](#7.-Compiling-the-Model)\n",
    "* [Training the Model](#8.-Training-the-Model)\n",
    "* [Getting the Test Data](#9.-Getting-the-Test-Data)\n",
    "    * [Concatinating Test Data to match LSTM requirements](#9.1-Concatinating-Test-Data-to-match-LSTM-requirements)\n",
    "    * [Reshaping Test Data to Match model Input Format](#9.2-Reshaping-Test-Data-to-Match-model-Input-Format)\n",
    "* [Predicting Using Trained Model](#10.-Predicting-Using-Trained-Model)\n",
    "* [Compairing Predictions with Real Values](#11.-Compairing-Predictions-with-Real-Values)\n"
   ]
  },
  {
   "cell_type": "code",
   "execution_count": null,
   "id": "8424f527",
   "metadata": {},
   "outputs": [],
   "source": []
  },
  {
   "cell_type": "markdown",
   "id": "f312cdc9",
   "metadata": {},
   "source": [
    "### 1. Importing Libraries"
   ]
  },
  {
   "cell_type": "markdown",
   "id": "5a761d55",
   "metadata": {},
   "source": [
    "[Back To Top](#Table-of-Content)"
   ]
  },
  {
   "cell_type": "code",
   "execution_count": 1,
   "id": "348eb647",
   "metadata": {},
   "outputs": [],
   "source": [
    "import pandas as pd\n",
    "import numpy as np\n",
    "\n",
    "# For Plotting\n",
    "import matplotlib.pyplot as plt\n",
    "%matplotlib inline\n",
    "\n",
    "# For the Neural Network\n",
    "from tensorflow.keras.models import Sequential\n",
    "from tensorflow.keras.layers import Dense\n",
    "from tensorflow.keras.layers import LSTM\n",
    "\n",
    "# Scaling the Data\n",
    "from sklearn.preprocessing import MinMaxScaler"
   ]
  },
  {
   "cell_type": "markdown",
   "id": "c0b4d400",
   "metadata": {},
   "source": [
    "#### 1.1 Initializing Objects"
   ]
  },
  {
   "cell_type": "code",
   "execution_count": 36,
   "id": "824fa623",
   "metadata": {},
   "outputs": [],
   "source": [
    "# Initializing the MinMaxScalar Object\n",
    "sc    = MinMaxScaler()\n",
    "\n",
    "# Initializing the Model\n",
    "model = Sequential()"
   ]
  },
  {
   "cell_type": "code",
   "execution_count": null,
   "id": "d7f827e7",
   "metadata": {},
   "outputs": [],
   "source": []
  },
  {
   "cell_type": "markdown",
   "id": "88e7202c",
   "metadata": {},
   "source": [
    "### 2. Getting Data for Training"
   ]
  },
  {
   "cell_type": "markdown",
   "id": "8e86ffd8",
   "metadata": {},
   "source": [
    "[Back To Top](#Table-of-Content)"
   ]
  },
  {
   "cell_type": "code",
   "execution_count": 3,
   "id": "91324efb",
   "metadata": {},
   "outputs": [],
   "source": [
    "df_train = pd.read_csv(\"Google_Stock_Price_Train.csv\",\n",
    "                       parse_dates=['Date'])"
   ]
  },
  {
   "cell_type": "code",
   "execution_count": 4,
   "id": "847935da",
   "metadata": {},
   "outputs": [
    {
     "data": {
      "text/html": [
       "<div>\n",
       "<style scoped>\n",
       "    .dataframe tbody tr th:only-of-type {\n",
       "        vertical-align: middle;\n",
       "    }\n",
       "\n",
       "    .dataframe tbody tr th {\n",
       "        vertical-align: top;\n",
       "    }\n",
       "\n",
       "    .dataframe thead th {\n",
       "        text-align: right;\n",
       "    }\n",
       "</style>\n",
       "<table border=\"1\" class=\"dataframe\">\n",
       "  <thead>\n",
       "    <tr style=\"text-align: right;\">\n",
       "      <th></th>\n",
       "      <th>Date</th>\n",
       "      <th>Open</th>\n",
       "      <th>High</th>\n",
       "      <th>Low</th>\n",
       "      <th>Close</th>\n",
       "      <th>Volume</th>\n",
       "    </tr>\n",
       "  </thead>\n",
       "  <tbody>\n",
       "    <tr>\n",
       "      <th>0</th>\n",
       "      <td>2012-01-03</td>\n",
       "      <td>325.25</td>\n",
       "      <td>332.83</td>\n",
       "      <td>324.97</td>\n",
       "      <td>663.59</td>\n",
       "      <td>73,80,500</td>\n",
       "    </tr>\n",
       "    <tr>\n",
       "      <th>1</th>\n",
       "      <td>2012-01-04</td>\n",
       "      <td>331.27</td>\n",
       "      <td>333.87</td>\n",
       "      <td>329.08</td>\n",
       "      <td>666.45</td>\n",
       "      <td>57,49,400</td>\n",
       "    </tr>\n",
       "    <tr>\n",
       "      <th>2</th>\n",
       "      <td>2012-01-05</td>\n",
       "      <td>329.83</td>\n",
       "      <td>330.75</td>\n",
       "      <td>326.89</td>\n",
       "      <td>657.21</td>\n",
       "      <td>65,90,300</td>\n",
       "    </tr>\n",
       "    <tr>\n",
       "      <th>3</th>\n",
       "      <td>2012-01-06</td>\n",
       "      <td>328.34</td>\n",
       "      <td>328.77</td>\n",
       "      <td>323.68</td>\n",
       "      <td>648.24</td>\n",
       "      <td>54,05,900</td>\n",
       "    </tr>\n",
       "    <tr>\n",
       "      <th>4</th>\n",
       "      <td>2012-01-09</td>\n",
       "      <td>322.04</td>\n",
       "      <td>322.29</td>\n",
       "      <td>309.46</td>\n",
       "      <td>620.76</td>\n",
       "      <td>1,16,88,800</td>\n",
       "    </tr>\n",
       "    <tr>\n",
       "      <th>...</th>\n",
       "      <td>...</td>\n",
       "      <td>...</td>\n",
       "      <td>...</td>\n",
       "      <td>...</td>\n",
       "      <td>...</td>\n",
       "      <td>...</td>\n",
       "    </tr>\n",
       "    <tr>\n",
       "      <th>1253</th>\n",
       "      <td>2016-12-23</td>\n",
       "      <td>790.90</td>\n",
       "      <td>792.74</td>\n",
       "      <td>787.28</td>\n",
       "      <td>789.91</td>\n",
       "      <td>6,23,400</td>\n",
       "    </tr>\n",
       "    <tr>\n",
       "      <th>1254</th>\n",
       "      <td>2016-12-27</td>\n",
       "      <td>790.68</td>\n",
       "      <td>797.86</td>\n",
       "      <td>787.66</td>\n",
       "      <td>791.55</td>\n",
       "      <td>7,89,100</td>\n",
       "    </tr>\n",
       "    <tr>\n",
       "      <th>1255</th>\n",
       "      <td>2016-12-28</td>\n",
       "      <td>793.70</td>\n",
       "      <td>794.23</td>\n",
       "      <td>783.20</td>\n",
       "      <td>785.05</td>\n",
       "      <td>11,53,800</td>\n",
       "    </tr>\n",
       "    <tr>\n",
       "      <th>1256</th>\n",
       "      <td>2016-12-29</td>\n",
       "      <td>783.33</td>\n",
       "      <td>785.93</td>\n",
       "      <td>778.92</td>\n",
       "      <td>782.79</td>\n",
       "      <td>7,44,300</td>\n",
       "    </tr>\n",
       "    <tr>\n",
       "      <th>1257</th>\n",
       "      <td>2016-12-30</td>\n",
       "      <td>782.75</td>\n",
       "      <td>782.78</td>\n",
       "      <td>770.41</td>\n",
       "      <td>771.82</td>\n",
       "      <td>17,70,000</td>\n",
       "    </tr>\n",
       "  </tbody>\n",
       "</table>\n",
       "<p>1258 rows × 6 columns</p>\n",
       "</div>"
      ],
      "text/plain": [
       "           Date    Open    High     Low   Close       Volume\n",
       "0    2012-01-03  325.25  332.83  324.97  663.59    73,80,500\n",
       "1    2012-01-04  331.27  333.87  329.08  666.45    57,49,400\n",
       "2    2012-01-05  329.83  330.75  326.89  657.21    65,90,300\n",
       "3    2012-01-06  328.34  328.77  323.68  648.24    54,05,900\n",
       "4    2012-01-09  322.04  322.29  309.46  620.76  1,16,88,800\n",
       "...         ...     ...     ...     ...     ...          ...\n",
       "1253 2016-12-23  790.90  792.74  787.28  789.91     6,23,400\n",
       "1254 2016-12-27  790.68  797.86  787.66  791.55     7,89,100\n",
       "1255 2016-12-28  793.70  794.23  783.20  785.05    11,53,800\n",
       "1256 2016-12-29  783.33  785.93  778.92  782.79     7,44,300\n",
       "1257 2016-12-30  782.75  782.78  770.41  771.82    17,70,000\n",
       "\n",
       "[1258 rows x 6 columns]"
      ]
     },
     "execution_count": 4,
     "metadata": {},
     "output_type": "execute_result"
    }
   ],
   "source": [
    "df_train"
   ]
  },
  {
   "cell_type": "code",
   "execution_count": 5,
   "id": "2985c8c5",
   "metadata": {},
   "outputs": [],
   "source": [
    "df_train_Open = df_train[['Date','Open']]"
   ]
  },
  {
   "cell_type": "code",
   "execution_count": 6,
   "id": "0de351e7",
   "metadata": {},
   "outputs": [
    {
     "data": {
      "text/html": [
       "<div>\n",
       "<style scoped>\n",
       "    .dataframe tbody tr th:only-of-type {\n",
       "        vertical-align: middle;\n",
       "    }\n",
       "\n",
       "    .dataframe tbody tr th {\n",
       "        vertical-align: top;\n",
       "    }\n",
       "\n",
       "    .dataframe thead th {\n",
       "        text-align: right;\n",
       "    }\n",
       "</style>\n",
       "<table border=\"1\" class=\"dataframe\">\n",
       "  <thead>\n",
       "    <tr style=\"text-align: right;\">\n",
       "      <th></th>\n",
       "      <th>Date</th>\n",
       "      <th>Open</th>\n",
       "    </tr>\n",
       "  </thead>\n",
       "  <tbody>\n",
       "    <tr>\n",
       "      <th>0</th>\n",
       "      <td>2012-01-03</td>\n",
       "      <td>325.25</td>\n",
       "    </tr>\n",
       "    <tr>\n",
       "      <th>1</th>\n",
       "      <td>2012-01-04</td>\n",
       "      <td>331.27</td>\n",
       "    </tr>\n",
       "    <tr>\n",
       "      <th>2</th>\n",
       "      <td>2012-01-05</td>\n",
       "      <td>329.83</td>\n",
       "    </tr>\n",
       "    <tr>\n",
       "      <th>3</th>\n",
       "      <td>2012-01-06</td>\n",
       "      <td>328.34</td>\n",
       "    </tr>\n",
       "    <tr>\n",
       "      <th>4</th>\n",
       "      <td>2012-01-09</td>\n",
       "      <td>322.04</td>\n",
       "    </tr>\n",
       "    <tr>\n",
       "      <th>...</th>\n",
       "      <td>...</td>\n",
       "      <td>...</td>\n",
       "    </tr>\n",
       "    <tr>\n",
       "      <th>1253</th>\n",
       "      <td>2016-12-23</td>\n",
       "      <td>790.90</td>\n",
       "    </tr>\n",
       "    <tr>\n",
       "      <th>1254</th>\n",
       "      <td>2016-12-27</td>\n",
       "      <td>790.68</td>\n",
       "    </tr>\n",
       "    <tr>\n",
       "      <th>1255</th>\n",
       "      <td>2016-12-28</td>\n",
       "      <td>793.70</td>\n",
       "    </tr>\n",
       "    <tr>\n",
       "      <th>1256</th>\n",
       "      <td>2016-12-29</td>\n",
       "      <td>783.33</td>\n",
       "    </tr>\n",
       "    <tr>\n",
       "      <th>1257</th>\n",
       "      <td>2016-12-30</td>\n",
       "      <td>782.75</td>\n",
       "    </tr>\n",
       "  </tbody>\n",
       "</table>\n",
       "<p>1258 rows × 2 columns</p>\n",
       "</div>"
      ],
      "text/plain": [
       "           Date    Open\n",
       "0    2012-01-03  325.25\n",
       "1    2012-01-04  331.27\n",
       "2    2012-01-05  329.83\n",
       "3    2012-01-06  328.34\n",
       "4    2012-01-09  322.04\n",
       "...         ...     ...\n",
       "1253 2016-12-23  790.90\n",
       "1254 2016-12-27  790.68\n",
       "1255 2016-12-28  793.70\n",
       "1256 2016-12-29  783.33\n",
       "1257 2016-12-30  782.75\n",
       "\n",
       "[1258 rows x 2 columns]"
      ]
     },
     "execution_count": 6,
     "metadata": {},
     "output_type": "execute_result"
    }
   ],
   "source": [
    "df_train_Open"
   ]
  },
  {
   "cell_type": "code",
   "execution_count": 7,
   "id": "5c1244f4",
   "metadata": {},
   "outputs": [],
   "source": [
    "df_vals = df_train_Open.reset_index()['Open']"
   ]
  },
  {
   "cell_type": "markdown",
   "id": "c9de7cfc",
   "metadata": {},
   "source": [
    "#### 2.1 Getting Target Variable"
   ]
  },
  {
   "cell_type": "code",
   "execution_count": 8,
   "id": "96d5a2a2",
   "metadata": {},
   "outputs": [
    {
     "data": {
      "text/plain": [
       "0       325.25\n",
       "1       331.27\n",
       "2       329.83\n",
       "3       328.34\n",
       "4       322.04\n",
       "         ...  \n",
       "1253    790.90\n",
       "1254    790.68\n",
       "1255    793.70\n",
       "1256    783.33\n",
       "1257    782.75\n",
       "Name: Open, Length: 1258, dtype: float64"
      ]
     },
     "execution_count": 8,
     "metadata": {},
     "output_type": "execute_result"
    }
   ],
   "source": [
    "df_vals"
   ]
  },
  {
   "cell_type": "code",
   "execution_count": 9,
   "id": "f48b41b4",
   "metadata": {},
   "outputs": [
    {
     "data": {
      "text/plain": [
       "(1258,)"
      ]
     },
     "execution_count": 9,
     "metadata": {},
     "output_type": "execute_result"
    }
   ],
   "source": [
    "df_vals.shape"
   ]
  },
  {
   "cell_type": "code",
   "execution_count": null,
   "id": "e4c0de49",
   "metadata": {},
   "outputs": [],
   "source": []
  },
  {
   "cell_type": "markdown",
   "id": "79eec083",
   "metadata": {},
   "source": [
    "### 3. Scaling the Data"
   ]
  },
  {
   "cell_type": "markdown",
   "id": "32b57c5f",
   "metadata": {},
   "source": [
    "[Back To Top](#Table-of-Content)"
   ]
  },
  {
   "cell_type": "code",
   "execution_count": 10,
   "id": "5e1ed46f",
   "metadata": {},
   "outputs": [],
   "source": [
    "df_vals=sc.fit_transform(np.array(df_vals).reshape(-1,1))"
   ]
  },
  {
   "cell_type": "code",
   "execution_count": 11,
   "id": "ba710e90",
   "metadata": {},
   "outputs": [
    {
     "data": {
      "text/plain": [
       "array([[0.08581368],\n",
       "       [0.09701243],\n",
       "       [0.09433366],\n",
       "       ...,\n",
       "       [0.95725128],\n",
       "       [0.93796041],\n",
       "       [0.93688146]])"
      ]
     },
     "execution_count": 11,
     "metadata": {},
     "output_type": "execute_result"
    }
   ],
   "source": [
    "df_vals"
   ]
  },
  {
   "cell_type": "code",
   "execution_count": 18,
   "id": "f49c9cc3",
   "metadata": {},
   "outputs": [
    {
     "data": {
      "text/plain": [
       "1198"
      ]
     },
     "execution_count": 18,
     "metadata": {},
     "output_type": "execute_result"
    }
   ],
   "source": [
    "df_vals.shape[0]-60"
   ]
  },
  {
   "cell_type": "markdown",
   "id": "cea34b45",
   "metadata": {},
   "source": [
    "### 4. Making the Training Dataset"
   ]
  },
  {
   "cell_type": "markdown",
   "id": "91243ef1",
   "metadata": {},
   "source": [
    "[Back To Top](#Table-of-Content)"
   ]
  },
  {
   "cell_type": "code",
   "execution_count": 25,
   "id": "ab76ba9c",
   "metadata": {},
   "outputs": [],
   "source": [
    "X, y = [],[]"
   ]
  },
  {
   "cell_type": "code",
   "execution_count": 26,
   "id": "4a96df2e",
   "metadata": {},
   "outputs": [],
   "source": [
    "for i in range(len(df_vals)-60):\n",
    "        a = df_vals[i:(i+60), 0]\n",
    "        X.append(a)\n",
    "        y.append(df_vals[i + 60, 0])"
   ]
  },
  {
   "cell_type": "code",
   "execution_count": 27,
   "id": "3279e573",
   "metadata": {},
   "outputs": [],
   "source": [
    "X_train = np.array(X)"
   ]
  },
  {
   "cell_type": "code",
   "execution_count": 28,
   "id": "1a6a7fd2",
   "metadata": {},
   "outputs": [
    {
     "data": {
      "text/plain": [
       "(1198, 60)"
      ]
     },
     "execution_count": 28,
     "metadata": {},
     "output_type": "execute_result"
    }
   ],
   "source": [
    "X_train.shape"
   ]
  },
  {
   "cell_type": "code",
   "execution_count": 29,
   "id": "22e70601",
   "metadata": {},
   "outputs": [
    {
     "data": {
      "text/plain": [
       "(1198,)"
      ]
     },
     "execution_count": 29,
     "metadata": {},
     "output_type": "execute_result"
    }
   ],
   "source": [
    "y_train  = np.array(y)\n",
    "y_train.shape"
   ]
  },
  {
   "cell_type": "code",
   "execution_count": null,
   "id": "aacf2ad7",
   "metadata": {},
   "outputs": [],
   "source": []
  },
  {
   "cell_type": "markdown",
   "id": "e4ae5f3c",
   "metadata": {},
   "source": [
    "### 5. Reshaping the Data to fit LSTM input"
   ]
  },
  {
   "cell_type": "markdown",
   "id": "19166b93",
   "metadata": {},
   "source": [
    "[Back To Top](#Table-of-Content)"
   ]
  },
  {
   "cell_type": "code",
   "execution_count": 30,
   "id": "bffe90e3",
   "metadata": {},
   "outputs": [],
   "source": [
    "X_train =X_train.reshape(X_train.shape[0],X_train.shape[1] , 1)"
   ]
  },
  {
   "cell_type": "code",
   "execution_count": 31,
   "id": "837a7635",
   "metadata": {},
   "outputs": [
    {
     "data": {
      "text/plain": [
       "(1198, 60, 1)"
      ]
     },
     "execution_count": 31,
     "metadata": {},
     "output_type": "execute_result"
    }
   ],
   "source": [
    "X_train.shape"
   ]
  },
  {
   "cell_type": "code",
   "execution_count": null,
   "id": "abbbe9a4",
   "metadata": {},
   "outputs": [],
   "source": []
  },
  {
   "cell_type": "markdown",
   "id": "59c7447e",
   "metadata": {},
   "source": [
    "### 6. Building the Model"
   ]
  },
  {
   "cell_type": "markdown",
   "id": "9224a4ad",
   "metadata": {},
   "source": [
    "[Back To Top](#Table-of-Content)"
   ]
  },
  {
   "cell_type": "markdown",
   "id": "4ebc0e2f",
   "metadata": {},
   "source": [
    "#### 6.1 Adding Hidden Layers"
   ]
  },
  {
   "cell_type": "code",
   "execution_count": 37,
   "id": "df6681a2",
   "metadata": {},
   "outputs": [],
   "source": [
    "model.add(LSTM(60,return_sequences=True,input_shape=(60,1)))\n",
    "\n",
    "\n",
    "model.add(LSTM(60,return_sequences=True))\n",
    "\n",
    "\n",
    "model.add(LSTM(30))"
   ]
  },
  {
   "cell_type": "markdown",
   "id": "69873f2e",
   "metadata": {},
   "source": [
    "#### 6.2 Adding Output Layer"
   ]
  },
  {
   "cell_type": "code",
   "execution_count": 38,
   "id": "c3289b50",
   "metadata": {},
   "outputs": [],
   "source": [
    "model.add(Dense(1))"
   ]
  },
  {
   "cell_type": "code",
   "execution_count": null,
   "id": "1281dce6",
   "metadata": {},
   "outputs": [],
   "source": []
  },
  {
   "cell_type": "markdown",
   "id": "9fa11ae9",
   "metadata": {},
   "source": [
    "### 7. Compiling the Model"
   ]
  },
  {
   "cell_type": "markdown",
   "id": "f02c6284",
   "metadata": {},
   "source": [
    "[Back To Top](#Table-of-Content)"
   ]
  },
  {
   "cell_type": "code",
   "execution_count": 39,
   "id": "42098787",
   "metadata": {},
   "outputs": [],
   "source": [
    "model.compile(loss='mean_squared_error',\n",
    "              optimizer='adam')"
   ]
  },
  {
   "cell_type": "code",
   "execution_count": null,
   "id": "64f64267",
   "metadata": {},
   "outputs": [],
   "source": []
  },
  {
   "cell_type": "markdown",
   "id": "b2a6ffa5",
   "metadata": {},
   "source": [
    "### 8. Training the Model"
   ]
  },
  {
   "cell_type": "markdown",
   "id": "4317deb3",
   "metadata": {},
   "source": [
    "[Back To Top](#Table-of-Content)"
   ]
  },
  {
   "cell_type": "code",
   "execution_count": 40,
   "id": "a58b06ee",
   "metadata": {
    "scrolled": true
   },
   "outputs": [
    {
     "name": "stdout",
     "output_type": "stream",
     "text": [
      "Epoch 1/5\n",
      "120/120 [==============================] - 11s 91ms/step - loss: 0.0110\n",
      "Epoch 2/5\n",
      "120/120 [==============================] - 11s 92ms/step - loss: 0.0017\n",
      "Epoch 3/5\n",
      "120/120 [==============================] - 12s 98ms/step - loss: 0.0017\n",
      "Epoch 4/5\n",
      "120/120 [==============================] - 11s 94ms/step - loss: 0.0014\n",
      "Epoch 5/5\n",
      "120/120 [==============================] - 10s 84ms/step - loss: 0.0013\n"
     ]
    },
    {
     "data": {
      "text/plain": [
       "<tensorflow.python.keras.callbacks.History at 0x2139085b580>"
      ]
     },
     "execution_count": 40,
     "metadata": {},
     "output_type": "execute_result"
    }
   ],
   "source": [
    "model.fit(X_train,\n",
    "          y_train,\n",
    "          epochs=5,\n",
    "          batch_size=10)"
   ]
  },
  {
   "cell_type": "code",
   "execution_count": null,
   "id": "2ca32652",
   "metadata": {},
   "outputs": [],
   "source": []
  },
  {
   "cell_type": "markdown",
   "id": "cc610a25",
   "metadata": {},
   "source": [
    "### 9. Getting the Test Data"
   ]
  },
  {
   "cell_type": "markdown",
   "id": "1a1ace3b",
   "metadata": {},
   "source": [
    "[Back To Top](#Table-of-Content)"
   ]
  },
  {
   "cell_type": "code",
   "execution_count": 41,
   "id": "44b2fc8b",
   "metadata": {},
   "outputs": [],
   "source": [
    "df_test = pd.read_csv(\"Google_Stock_Price_Test.csv\",parse_dates=['Date'])"
   ]
  },
  {
   "cell_type": "code",
   "execution_count": 42,
   "id": "020eeda2",
   "metadata": {},
   "outputs": [
    {
     "data": {
      "text/html": [
       "<div>\n",
       "<style scoped>\n",
       "    .dataframe tbody tr th:only-of-type {\n",
       "        vertical-align: middle;\n",
       "    }\n",
       "\n",
       "    .dataframe tbody tr th {\n",
       "        vertical-align: top;\n",
       "    }\n",
       "\n",
       "    .dataframe thead th {\n",
       "        text-align: right;\n",
       "    }\n",
       "</style>\n",
       "<table border=\"1\" class=\"dataframe\">\n",
       "  <thead>\n",
       "    <tr style=\"text-align: right;\">\n",
       "      <th></th>\n",
       "      <th>Date</th>\n",
       "      <th>Open</th>\n",
       "      <th>High</th>\n",
       "      <th>Low</th>\n",
       "      <th>Close</th>\n",
       "      <th>Volume</th>\n",
       "    </tr>\n",
       "  </thead>\n",
       "  <tbody>\n",
       "    <tr>\n",
       "      <th>0</th>\n",
       "      <td>2017-01-03</td>\n",
       "      <td>778.81</td>\n",
       "      <td>789.63</td>\n",
       "      <td>775.80</td>\n",
       "      <td>786.14</td>\n",
       "      <td>1,657,300</td>\n",
       "    </tr>\n",
       "    <tr>\n",
       "      <th>1</th>\n",
       "      <td>2017-01-04</td>\n",
       "      <td>788.36</td>\n",
       "      <td>791.34</td>\n",
       "      <td>783.16</td>\n",
       "      <td>786.90</td>\n",
       "      <td>1,073,000</td>\n",
       "    </tr>\n",
       "    <tr>\n",
       "      <th>2</th>\n",
       "      <td>2017-01-05</td>\n",
       "      <td>786.08</td>\n",
       "      <td>794.48</td>\n",
       "      <td>785.02</td>\n",
       "      <td>794.02</td>\n",
       "      <td>1,335,200</td>\n",
       "    </tr>\n",
       "    <tr>\n",
       "      <th>3</th>\n",
       "      <td>2017-01-06</td>\n",
       "      <td>795.26</td>\n",
       "      <td>807.90</td>\n",
       "      <td>792.20</td>\n",
       "      <td>806.15</td>\n",
       "      <td>1,640,200</td>\n",
       "    </tr>\n",
       "    <tr>\n",
       "      <th>4</th>\n",
       "      <td>2017-01-09</td>\n",
       "      <td>806.40</td>\n",
       "      <td>809.97</td>\n",
       "      <td>802.83</td>\n",
       "      <td>806.65</td>\n",
       "      <td>1,272,400</td>\n",
       "    </tr>\n",
       "    <tr>\n",
       "      <th>5</th>\n",
       "      <td>2017-01-10</td>\n",
       "      <td>807.86</td>\n",
       "      <td>809.13</td>\n",
       "      <td>803.51</td>\n",
       "      <td>804.79</td>\n",
       "      <td>1,176,800</td>\n",
       "    </tr>\n",
       "    <tr>\n",
       "      <th>6</th>\n",
       "      <td>2017-01-11</td>\n",
       "      <td>805.00</td>\n",
       "      <td>808.15</td>\n",
       "      <td>801.37</td>\n",
       "      <td>807.91</td>\n",
       "      <td>1,065,900</td>\n",
       "    </tr>\n",
       "    <tr>\n",
       "      <th>7</th>\n",
       "      <td>2017-01-12</td>\n",
       "      <td>807.14</td>\n",
       "      <td>807.39</td>\n",
       "      <td>799.17</td>\n",
       "      <td>806.36</td>\n",
       "      <td>1,353,100</td>\n",
       "    </tr>\n",
       "    <tr>\n",
       "      <th>8</th>\n",
       "      <td>2017-01-13</td>\n",
       "      <td>807.48</td>\n",
       "      <td>811.22</td>\n",
       "      <td>806.69</td>\n",
       "      <td>807.88</td>\n",
       "      <td>1,099,200</td>\n",
       "    </tr>\n",
       "    <tr>\n",
       "      <th>9</th>\n",
       "      <td>2017-01-17</td>\n",
       "      <td>807.08</td>\n",
       "      <td>807.14</td>\n",
       "      <td>800.37</td>\n",
       "      <td>804.61</td>\n",
       "      <td>1,362,100</td>\n",
       "    </tr>\n",
       "    <tr>\n",
       "      <th>10</th>\n",
       "      <td>2017-01-18</td>\n",
       "      <td>805.81</td>\n",
       "      <td>806.21</td>\n",
       "      <td>800.99</td>\n",
       "      <td>806.07</td>\n",
       "      <td>1,294,400</td>\n",
       "    </tr>\n",
       "    <tr>\n",
       "      <th>11</th>\n",
       "      <td>2017-01-19</td>\n",
       "      <td>805.12</td>\n",
       "      <td>809.48</td>\n",
       "      <td>801.80</td>\n",
       "      <td>802.17</td>\n",
       "      <td>919,300</td>\n",
       "    </tr>\n",
       "    <tr>\n",
       "      <th>12</th>\n",
       "      <td>2017-01-20</td>\n",
       "      <td>806.91</td>\n",
       "      <td>806.91</td>\n",
       "      <td>801.69</td>\n",
       "      <td>805.02</td>\n",
       "      <td>1,670,000</td>\n",
       "    </tr>\n",
       "    <tr>\n",
       "      <th>13</th>\n",
       "      <td>2017-01-23</td>\n",
       "      <td>807.25</td>\n",
       "      <td>820.87</td>\n",
       "      <td>803.74</td>\n",
       "      <td>819.31</td>\n",
       "      <td>1,963,600</td>\n",
       "    </tr>\n",
       "    <tr>\n",
       "      <th>14</th>\n",
       "      <td>2017-01-24</td>\n",
       "      <td>822.30</td>\n",
       "      <td>825.90</td>\n",
       "      <td>817.82</td>\n",
       "      <td>823.87</td>\n",
       "      <td>1,474,000</td>\n",
       "    </tr>\n",
       "    <tr>\n",
       "      <th>15</th>\n",
       "      <td>2017-01-25</td>\n",
       "      <td>829.62</td>\n",
       "      <td>835.77</td>\n",
       "      <td>825.06</td>\n",
       "      <td>835.67</td>\n",
       "      <td>1,494,500</td>\n",
       "    </tr>\n",
       "    <tr>\n",
       "      <th>16</th>\n",
       "      <td>2017-01-26</td>\n",
       "      <td>837.81</td>\n",
       "      <td>838.00</td>\n",
       "      <td>827.01</td>\n",
       "      <td>832.15</td>\n",
       "      <td>2,973,900</td>\n",
       "    </tr>\n",
       "    <tr>\n",
       "      <th>17</th>\n",
       "      <td>2017-01-27</td>\n",
       "      <td>834.71</td>\n",
       "      <td>841.95</td>\n",
       "      <td>820.44</td>\n",
       "      <td>823.31</td>\n",
       "      <td>2,965,800</td>\n",
       "    </tr>\n",
       "    <tr>\n",
       "      <th>18</th>\n",
       "      <td>2017-01-30</td>\n",
       "      <td>814.66</td>\n",
       "      <td>815.84</td>\n",
       "      <td>799.80</td>\n",
       "      <td>802.32</td>\n",
       "      <td>3,246,600</td>\n",
       "    </tr>\n",
       "    <tr>\n",
       "      <th>19</th>\n",
       "      <td>2017-01-31</td>\n",
       "      <td>796.86</td>\n",
       "      <td>801.25</td>\n",
       "      <td>790.52</td>\n",
       "      <td>796.79</td>\n",
       "      <td>2,160,600</td>\n",
       "    </tr>\n",
       "  </tbody>\n",
       "</table>\n",
       "</div>"
      ],
      "text/plain": [
       "         Date    Open    High     Low   Close     Volume\n",
       "0  2017-01-03  778.81  789.63  775.80  786.14  1,657,300\n",
       "1  2017-01-04  788.36  791.34  783.16  786.90  1,073,000\n",
       "2  2017-01-05  786.08  794.48  785.02  794.02  1,335,200\n",
       "3  2017-01-06  795.26  807.90  792.20  806.15  1,640,200\n",
       "4  2017-01-09  806.40  809.97  802.83  806.65  1,272,400\n",
       "5  2017-01-10  807.86  809.13  803.51  804.79  1,176,800\n",
       "6  2017-01-11  805.00  808.15  801.37  807.91  1,065,900\n",
       "7  2017-01-12  807.14  807.39  799.17  806.36  1,353,100\n",
       "8  2017-01-13  807.48  811.22  806.69  807.88  1,099,200\n",
       "9  2017-01-17  807.08  807.14  800.37  804.61  1,362,100\n",
       "10 2017-01-18  805.81  806.21  800.99  806.07  1,294,400\n",
       "11 2017-01-19  805.12  809.48  801.80  802.17    919,300\n",
       "12 2017-01-20  806.91  806.91  801.69  805.02  1,670,000\n",
       "13 2017-01-23  807.25  820.87  803.74  819.31  1,963,600\n",
       "14 2017-01-24  822.30  825.90  817.82  823.87  1,474,000\n",
       "15 2017-01-25  829.62  835.77  825.06  835.67  1,494,500\n",
       "16 2017-01-26  837.81  838.00  827.01  832.15  2,973,900\n",
       "17 2017-01-27  834.71  841.95  820.44  823.31  2,965,800\n",
       "18 2017-01-30  814.66  815.84  799.80  802.32  3,246,600\n",
       "19 2017-01-31  796.86  801.25  790.52  796.79  2,160,600"
      ]
     },
     "execution_count": 42,
     "metadata": {},
     "output_type": "execute_result"
    }
   ],
   "source": [
    "df_test"
   ]
  },
  {
   "cell_type": "markdown",
   "id": "67cfe289",
   "metadata": {},
   "source": [
    "#### 9.1 Concatinating Test Data to match LSTM requirements"
   ]
  },
  {
   "cell_type": "code",
   "execution_count": 43,
   "id": "6857f6af",
   "metadata": {},
   "outputs": [],
   "source": [
    "df_test = pd.concat([df_train[1208:],\n",
    "                     df_test],\n",
    "                    axis=0).reset_index(drop=True)"
   ]
  },
  {
   "cell_type": "code",
   "execution_count": 44,
   "id": "9af92bf5",
   "metadata": {},
   "outputs": [
    {
     "data": {
      "text/plain": [
       "(70, 6)"
      ]
     },
     "execution_count": 44,
     "metadata": {},
     "output_type": "execute_result"
    }
   ],
   "source": [
    "df_test.shape"
   ]
  },
  {
   "cell_type": "code",
   "execution_count": 45,
   "id": "d6ba81ae",
   "metadata": {},
   "outputs": [],
   "source": [
    "df_vals = df_test.reset_index()['Open']"
   ]
  },
  {
   "cell_type": "markdown",
   "id": "72df3e61",
   "metadata": {},
   "source": [
    "#### 9.2 Reshaping Test Data to Match model Input Format"
   ]
  },
  {
   "cell_type": "code",
   "execution_count": 46,
   "id": "840b7c33",
   "metadata": {},
   "outputs": [],
   "source": [
    "df_vals=sc.fit_transform(np.array(df_vals).reshape(-1,1))"
   ]
  },
  {
   "cell_type": "code",
   "execution_count": 47,
   "id": "a6cab2ca",
   "metadata": {},
   "outputs": [],
   "source": [
    "X, y = [],[]\n",
    "for i in range(len(df_vals)-60):\n",
    "        a = df_vals[i:(i+60), 0]\n",
    "        X.append(a)\n",
    "        y.append(df_vals[i + 60, 0])"
   ]
  },
  {
   "cell_type": "code",
   "execution_count": 48,
   "id": "bd7ba072",
   "metadata": {},
   "outputs": [],
   "source": [
    "X_test = np.array(X)"
   ]
  },
  {
   "cell_type": "code",
   "execution_count": 49,
   "id": "17298ecd",
   "metadata": {},
   "outputs": [],
   "source": [
    "X_test = X_test.reshape(X_test.shape[0],X_test.shape[1] , 1)"
   ]
  },
  {
   "cell_type": "code",
   "execution_count": null,
   "id": "9a5767ae",
   "metadata": {},
   "outputs": [],
   "source": []
  },
  {
   "cell_type": "markdown",
   "id": "ce39553c",
   "metadata": {},
   "source": [
    "### 10. Predicting Using Trained Model"
   ]
  },
  {
   "cell_type": "markdown",
   "id": "197b6525",
   "metadata": {},
   "source": [
    "[Back To Top](#Table-of-Content)"
   ]
  },
  {
   "cell_type": "code",
   "execution_count": 50,
   "id": "c6779ad9",
   "metadata": {},
   "outputs": [],
   "source": [
    "preds = model.predict(X_test)"
   ]
  },
  {
   "cell_type": "code",
   "execution_count": 51,
   "id": "7079f7af",
   "metadata": {},
   "outputs": [],
   "source": [
    "preds=list(sc.inverse_transform(preds).reshape(1,-1)[0])"
   ]
  },
  {
   "cell_type": "code",
   "execution_count": 52,
   "id": "dc8e46c6",
   "metadata": {},
   "outputs": [],
   "source": [
    "real = list(df_test['Open'][60:])"
   ]
  },
  {
   "cell_type": "code",
   "execution_count": null,
   "id": "d6246b13",
   "metadata": {},
   "outputs": [],
   "source": []
  },
  {
   "cell_type": "markdown",
   "id": "5754f712",
   "metadata": {},
   "source": [
    "### 11. Compairing Predictions with Real Values"
   ]
  },
  {
   "cell_type": "markdown",
   "id": "ee1201b7",
   "metadata": {},
   "source": [
    "[Back To Top](#Table-of-Content)"
   ]
  },
  {
   "cell_type": "code",
   "execution_count": 59,
   "id": "e5cd0bf5",
   "metadata": {},
   "outputs": [
    {
     "data": {
      "text/plain": [
       "<matplotlib.legend.Legend at 0x2139ab264f0>"
      ]
     },
     "execution_count": 59,
     "metadata": {},
     "output_type": "execute_result"
    },
    {
     "data": {
      "image/png": "[encoded data removed]",
      "text/plain": [
       "<Figure size 648x360 with 1 Axes>"
      ]
     },
     "metadata": {
      "needs_background": "light"
     },
     "output_type": "display_data"
    }
   ],
   "source": [
    "plt.figure(figsize=(9,5))\n",
    "plt.plot(df_test.iloc[60:,0],real,label='real')\n",
    "plt.plot(df_test.iloc[60:,0],preds,label='predictions')\n",
    "plt.legend()"
   ]
  },
  {
   "cell_type": "markdown",
   "id": "7c663466",
   "metadata": {},
   "source": [
    "<hr>"
   ]
  }
 ],
 "metadata": {
  "kernelspec": {
   "display_name": "Python 3",
   "language": "python",
   "name": "python3"
  },
  "language_info": {
   "codemirror_mode": {
    "name": "ipython",
    "version": 3
   },
   "file_extension": ".py",
   "mimetype": "text/x-python",
   "name": "python",
   "nbconvert_exporter": "python",
   "pygments_lexer": "ipython3",
   "version": "3.8.8"
  }
 },
 "nbformat": 4,
 "nbformat_minor": 5
}
